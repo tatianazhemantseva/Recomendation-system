{
 "cells": [
  {
   "cell_type": "markdown",
   "metadata": {},
   "source": [
    "# Рекомендательные системы - проект"
   ]
  },
  {
   "cell_type": "code",
   "execution_count": null,
   "metadata": {},
   "outputs": [],
   "source": []
  },
  {
   "cell_type": "code",
   "execution_count": 221,
   "metadata": {},
   "outputs": [],
   "source": [
    "# Импортируем необходимые библиотеки:\n",
    "\n",
    "import numpy as np # linear algebra\n",
    "import pandas as pd # data processing, CSV file I/O (e.g. pd.read_csv)\n",
    "\n",
    "# Input data files are available in the \"../input/\" directory.\n",
    "# For example, running this (by clicking run or pressing Shift+Enter) will list all files under the input directory\n",
    "\n",
    "import os\n",
    "#for dirname, _, filenames in os.walk('/kaggle/input'):\n",
    "#    for filename in filenames:\n",
    "#        print(os.path.join(dirname, filename))\n",
    "        \n",
    "import scipy.sparse as sparse\n",
    "\n",
    "from lightfm import LightFM\n",
    "from lightfm.cross_validation import random_train_test_split\n",
    "from lightfm.evaluation import auc_score, precision_at_k, recall_at_k\n",
    "import lightgbm as lgb\n",
    "\n",
    "import sklearn\n",
    "from sklearn.model_selection import train_test_split\n",
    "\n",
    "import scipy.sparse as sparse\n",
    "\n",
    "import surprise\n",
    "from surprise import Reader, Dataset\n"
   ]
  },
  {
   "cell_type": "code",
   "execution_count": 222,
   "metadata": {},
   "outputs": [],
   "source": [
    "import math\n",
    "import json\n",
    "import time\n",
    "import matplotlib.pyplot as plt\n",
    "import seaborn as sns\n",
    "from sklearn.metrics.pairwise import cosine_similarity\n",
    "from sklearn.model_selection import train_test_split\n",
    "from sklearn.neighbors import NearestNeighbors\n",
    "from sklearn.externals import joblib\n",
    "from sklearn.preprocessing import normalize\n",
    "import scipy.sparse\n",
    "from scipy.sparse import csr_matrix\n",
    "from scipy.sparse.linalg import svds\n",
    "import warnings; warnings.simplefilter('ignore')"
   ]
  },
  {
   "cell_type": "code",
   "execution_count": null,
   "metadata": {},
   "outputs": [],
   "source": [
    "# чтение json\n",
    "#with open(Path.cwd() / 'data' / 'meta_Grocery_and_Gourmet_Food.json') as f:\n",
    "#    bebe = []\n",
    "#    for line in f.readlines():\n",
    "#        bebe.append(json.loads(line))"
   ]
  },
  {
   "cell_type": "code",
   "execution_count": 131,
   "metadata": {},
   "outputs": [
    {
     "data": {
      "text/html": [
       "<div>\n",
       "<style scoped>\n",
       "    .dataframe tbody tr th:only-of-type {\n",
       "        vertical-align: middle;\n",
       "    }\n",
       "\n",
       "    .dataframe tbody tr th {\n",
       "        vertical-align: top;\n",
       "    }\n",
       "\n",
       "    .dataframe thead th {\n",
       "        text-align: right;\n",
       "    }\n",
       "</style>\n",
       "<table border=\"1\" class=\"dataframe\">\n",
       "  <thead>\n",
       "    <tr style=\"text-align: right;\">\n",
       "      <th></th>\n",
       "      <th>Unnamed: 0</th>\n",
       "      <th>category</th>\n",
       "      <th>description</th>\n",
       "      <th>title</th>\n",
       "      <th>brand</th>\n",
       "      <th>rank</th>\n",
       "      <th>also_view</th>\n",
       "      <th>main_cat</th>\n",
       "      <th>price</th>\n",
       "      <th>asin</th>\n",
       "      <th>also_buy</th>\n",
       "      <th>image</th>\n",
       "      <th>date</th>\n",
       "      <th>feature</th>\n",
       "      <th>details</th>\n",
       "      <th>similar_item</th>\n",
       "      <th>tech1</th>\n",
       "      <th>fit</th>\n",
       "    </tr>\n",
       "  </thead>\n",
       "  <tbody>\n",
       "    <tr>\n",
       "      <td>0</td>\n",
       "      <td>0</td>\n",
       "      <td>['Grocery &amp; Gourmet Food', 'Dairy, Cheese &amp; Eg...</td>\n",
       "      <td>['BEEMSTER GOUDA CHEESE AGED 18/24 MONTHS', 'S...</td>\n",
       "      <td>Beemster Gouda - Aged 18/24 Months - App. 1.5 Lbs</td>\n",
       "      <td>Ariola Imports</td>\n",
       "      <td>165,181inGroceryGourmetFood(</td>\n",
       "      <td>['B0000D9MYM', 'B0000D9MYL', 'B00ADHIGBA', 'B0...</td>\n",
       "      <td>Grocery</td>\n",
       "      <td>$41.91</td>\n",
       "      <td>0681727810</td>\n",
       "      <td>NaN</td>\n",
       "      <td>NaN</td>\n",
       "      <td>NaN</td>\n",
       "      <td>NaN</td>\n",
       "      <td>NaN</td>\n",
       "      <td>NaN</td>\n",
       "      <td>NaN</td>\n",
       "      <td>NaN</td>\n",
       "    </tr>\n",
       "    <tr>\n",
       "      <td>1</td>\n",
       "      <td>1</td>\n",
       "      <td>['Grocery &amp; Gourmet Food', 'Cooking &amp; Baking',...</td>\n",
       "      <td>['Shipped from UK, please allow 10 to 21 busin...</td>\n",
       "      <td>Trim Healthy Mama Xylitol</td>\n",
       "      <td>NaN</td>\n",
       "      <td>315,867inGroceryGourmetFood(</td>\n",
       "      <td>NaN</td>\n",
       "      <td>Grocery</td>\n",
       "      <td>NaN</td>\n",
       "      <td>0853347867</td>\n",
       "      <td>['B01898YHXK', 'B01BCM6LAC', 'B00Q4OL47O', 'B0...</td>\n",
       "      <td>['https://images-na.ssl-images-amazon.com/imag...</td>\n",
       "      <td>NaN</td>\n",
       "      <td>NaN</td>\n",
       "      <td>NaN</td>\n",
       "      <td>NaN</td>\n",
       "      <td>NaN</td>\n",
       "      <td>NaN</td>\n",
       "    </tr>\n",
       "    <tr>\n",
       "      <td>2</td>\n",
       "      <td>2</td>\n",
       "      <td>['Grocery &amp; Gourmet Food', 'Cooking &amp; Baking',...</td>\n",
       "      <td>['Jazz up your cakes with a sparkling monogram...</td>\n",
       "      <td>Letter C - Swarovski Crystal Monogram Wedding ...</td>\n",
       "      <td>Unik Occasions</td>\n",
       "      <td>&gt;#669,941 in Kitchen &amp; Dining (See Top 100 in ...</td>\n",
       "      <td>['B07DXN65TF']</td>\n",
       "      <td>Amazon Home</td>\n",
       "      <td>$29.95</td>\n",
       "      <td>1888861118</td>\n",
       "      <td>NaN</td>\n",
       "      <td>NaN</td>\n",
       "      <td>September 21, 2010</td>\n",
       "      <td>NaN</td>\n",
       "      <td>NaN</td>\n",
       "      <td>NaN</td>\n",
       "      <td>NaN</td>\n",
       "      <td>NaN</td>\n",
       "    </tr>\n",
       "    <tr>\n",
       "      <td>3</td>\n",
       "      <td>3</td>\n",
       "      <td>['Grocery &amp; Gourmet Food', 'Cooking &amp; Baking',...</td>\n",
       "      <td>['Large Letter - Height 4.75\"']</td>\n",
       "      <td>Letter H - Swarovski Crystal Monogram Wedding ...</td>\n",
       "      <td>Other</td>\n",
       "      <td>&gt;#832,581 in Kitchen &amp; Dining (See Top 100 in ...</td>\n",
       "      <td>NaN</td>\n",
       "      <td>Amazon Home</td>\n",
       "      <td>$11.45</td>\n",
       "      <td>1888861517</td>\n",
       "      <td>NaN</td>\n",
       "      <td>NaN</td>\n",
       "      <td>September 11, 2011</td>\n",
       "      <td>['Large Letter - Height 4.75\"']</td>\n",
       "      <td>NaN</td>\n",
       "      <td>NaN</td>\n",
       "      <td>NaN</td>\n",
       "      <td>NaN</td>\n",
       "    </tr>\n",
       "    <tr>\n",
       "      <td>4</td>\n",
       "      <td>4</td>\n",
       "      <td>['Grocery &amp; Gourmet Food', 'Cooking &amp; Baking',...</td>\n",
       "      <td>['4.75\"']</td>\n",
       "      <td>Letter S - Swarovski Crystal Monogram Wedding ...</td>\n",
       "      <td>Unik Occasions</td>\n",
       "      <td>&gt;#590,999 in Kitchen &amp; Dining (See Top 100 in ...</td>\n",
       "      <td>NaN</td>\n",
       "      <td>Amazon Home</td>\n",
       "      <td>$15.00</td>\n",
       "      <td>1888861614</td>\n",
       "      <td>NaN</td>\n",
       "      <td>NaN</td>\n",
       "      <td>September 11, 2011</td>\n",
       "      <td>['4.75\" height']</td>\n",
       "      <td>NaN</td>\n",
       "      <td>NaN</td>\n",
       "      <td>NaN</td>\n",
       "      <td>NaN</td>\n",
       "    </tr>\n",
       "    <tr>\n",
       "      <td>...</td>\n",
       "      <td>...</td>\n",
       "      <td>...</td>\n",
       "      <td>...</td>\n",
       "      <td>...</td>\n",
       "      <td>...</td>\n",
       "      <td>...</td>\n",
       "      <td>...</td>\n",
       "      <td>...</td>\n",
       "      <td>...</td>\n",
       "      <td>...</td>\n",
       "      <td>...</td>\n",
       "      <td>...</td>\n",
       "      <td>...</td>\n",
       "      <td>...</td>\n",
       "      <td>...</td>\n",
       "      <td>...</td>\n",
       "      <td>...</td>\n",
       "      <td>...</td>\n",
       "    </tr>\n",
       "    <tr>\n",
       "      <td>287204</td>\n",
       "      <td>287204</td>\n",
       "      <td>['Grocery &amp; Gourmet Food', 'Jams, Jellies &amp; Sw...</td>\n",
       "      <td>['Caffarel fruit jellies are a product of Ital...</td>\n",
       "      <td>Caffarel Fruit Jellies, Organic Assorted, 200 ...</td>\n",
       "      <td>Caffarel</td>\n",
       "      <td>369,384inGroceryGourmetFood(</td>\n",
       "      <td>NaN</td>\n",
       "      <td>Grocery</td>\n",
       "      <td>NaN</td>\n",
       "      <td>B01HJFBN9A</td>\n",
       "      <td>['B01HULC3TC', 'B07C8L4NWL', 'B014UTG6D6', 'B0...</td>\n",
       "      <td>NaN</td>\n",
       "      <td>NaN</td>\n",
       "      <td>NaN</td>\n",
       "      <td>\\n      &lt;div class=\"content\"&gt;\\n\\n\\n\\n\\n\\n\\n&lt;ul...</td>\n",
       "      <td>NaN</td>\n",
       "      <td>NaN</td>\n",
       "      <td>NaN</td>\n",
       "    </tr>\n",
       "    <tr>\n",
       "      <td>287205</td>\n",
       "      <td>287205</td>\n",
       "      <td>['Grocery &amp; Gourmet Food', 'Condiments &amp; Salad...</td>\n",
       "      <td>['Hampton Creeks Just Mayo Truffle makes fancy...</td>\n",
       "      <td>HAMPTON CREEK Spo Just Truffle Mayo, 12 Ounce</td>\n",
       "      <td>Hampton Creek</td>\n",
       "      <td>113,710inGroceryGourmetFood(</td>\n",
       "      <td>NaN</td>\n",
       "      <td>Grocery</td>\n",
       "      <td>$10.89</td>\n",
       "      <td>B01HJFC704</td>\n",
       "      <td>['B00WNAEX2Q', 'B071LD7PMJ', 'B01HJF6FRA', 'B0...</td>\n",
       "      <td>NaN</td>\n",
       "      <td>NaN</td>\n",
       "      <td>NaN</td>\n",
       "      <td>\\n      &lt;div class=\"content\"&gt;\\n\\n\\n\\n\\n\\n\\n&lt;ul...</td>\n",
       "      <td>NaN</td>\n",
       "      <td>NaN</td>\n",
       "      <td>NaN</td>\n",
       "    </tr>\n",
       "    <tr>\n",
       "      <td>287206</td>\n",
       "      <td>287206</td>\n",
       "      <td>['Grocery &amp; Gourmet Food', 'Condiments &amp; Salad...</td>\n",
       "      <td>['Nothing compares with the classically zesty ...</td>\n",
       "      <td>HAMPTON CREEK Just Ranch Dressing, 12 Fluid Ounce</td>\n",
       "      <td>Hampton Creek</td>\n",
       "      <td>21,731inGroceryGourmetFood(</td>\n",
       "      <td>NaN</td>\n",
       "      <td>Grocery</td>\n",
       "      <td>$10.95</td>\n",
       "      <td>B01HJF6FRA</td>\n",
       "      <td>['B071LD7PMJ', 'B00KOHNX6C', 'B00OVN2F64', 'B0...</td>\n",
       "      <td>NaN</td>\n",
       "      <td>NaN</td>\n",
       "      <td>NaN</td>\n",
       "      <td>\\n      &lt;div class=\"content\"&gt;\\n\\n\\n\\n\\n\\n\\n&lt;ul...</td>\n",
       "      <td>NaN</td>\n",
       "      <td>NaN</td>\n",
       "      <td>NaN</td>\n",
       "    </tr>\n",
       "    <tr>\n",
       "      <td>287207</td>\n",
       "      <td>287207</td>\n",
       "      <td>['Grocery &amp; Gourmet Food', 'Herbs, Spices &amp; Se...</td>\n",
       "      <td>NaN</td>\n",
       "      <td>Gourmet Pure Vanilla Bean Pastes - Organically...</td>\n",
       "      <td>Heilala Vanilla</td>\n",
       "      <td>472inGroceryGourmetFood(</td>\n",
       "      <td>NaN</td>\n",
       "      <td>Grocery</td>\n",
       "      <td>$14.97</td>\n",
       "      <td>B01HJHSVG6</td>\n",
       "      <td>['B00DUF219A', 'B01HJHX9ZO', 'B07K4K26PQ', 'B0...</td>\n",
       "      <td>['https://images-na.ssl-images-amazon.com/imag...</td>\n",
       "      <td>NaN</td>\n",
       "      <td>NaN</td>\n",
       "      <td>\\n\\n\\n\\n\\n\\n    &lt;div class=\"disclaim\"&gt;Size: &lt;s...</td>\n",
       "      <td>NaN</td>\n",
       "      <td>NaN</td>\n",
       "      <td>NaN</td>\n",
       "    </tr>\n",
       "    <tr>\n",
       "      <td>287208</td>\n",
       "      <td>287208</td>\n",
       "      <td>['Grocery &amp; Gourmet Food', 'Beverages', 'Bottl...</td>\n",
       "      <td>['McClures Spicy Bloody Mary Mix Pickles, 32 O...</td>\n",
       "      <td>McClure's Pickles Bloody Mary Mix-Spicy-32 oz ...</td>\n",
       "      <td>McClure's</td>\n",
       "      <td>265,258inGroceryGourmetFood(</td>\n",
       "      <td>['B007JFV6RK', 'B005VS60ZK', 'B01BV8YFYG', 'B0...</td>\n",
       "      <td>Grocery</td>\n",
       "      <td>$18.00</td>\n",
       "      <td>B01HJFRDDA</td>\n",
       "      <td>NaN</td>\n",
       "      <td>['https://images-na.ssl-images-amazon.com/imag...</td>\n",
       "      <td>NaN</td>\n",
       "      <td>NaN</td>\n",
       "      <td>\\n      &lt;div class=\"content\"&gt;\\n\\n\\n\\n\\n\\n\\n&lt;ul...</td>\n",
       "      <td>NaN</td>\n",
       "      <td>NaN</td>\n",
       "      <td>NaN</td>\n",
       "    </tr>\n",
       "  </tbody>\n",
       "</table>\n",
       "<p>287209 rows × 18 columns</p>\n",
       "</div>"
      ],
      "text/plain": [
       "        Unnamed: 0                                           category  \\\n",
       "0                0  ['Grocery & Gourmet Food', 'Dairy, Cheese & Eg...   \n",
       "1                1  ['Grocery & Gourmet Food', 'Cooking & Baking',...   \n",
       "2                2  ['Grocery & Gourmet Food', 'Cooking & Baking',...   \n",
       "3                3  ['Grocery & Gourmet Food', 'Cooking & Baking',...   \n",
       "4                4  ['Grocery & Gourmet Food', 'Cooking & Baking',...   \n",
       "...            ...                                                ...   \n",
       "287204      287204  ['Grocery & Gourmet Food', 'Jams, Jellies & Sw...   \n",
       "287205      287205  ['Grocery & Gourmet Food', 'Condiments & Salad...   \n",
       "287206      287206  ['Grocery & Gourmet Food', 'Condiments & Salad...   \n",
       "287207      287207  ['Grocery & Gourmet Food', 'Herbs, Spices & Se...   \n",
       "287208      287208  ['Grocery & Gourmet Food', 'Beverages', 'Bottl...   \n",
       "\n",
       "                                              description  \\\n",
       "0       ['BEEMSTER GOUDA CHEESE AGED 18/24 MONTHS', 'S...   \n",
       "1       ['Shipped from UK, please allow 10 to 21 busin...   \n",
       "2       ['Jazz up your cakes with a sparkling monogram...   \n",
       "3                         ['Large Letter - Height 4.75\"']   \n",
       "4                                               ['4.75\"']   \n",
       "...                                                   ...   \n",
       "287204  ['Caffarel fruit jellies are a product of Ital...   \n",
       "287205  ['Hampton Creeks Just Mayo Truffle makes fancy...   \n",
       "287206  ['Nothing compares with the classically zesty ...   \n",
       "287207                                                NaN   \n",
       "287208  ['McClures Spicy Bloody Mary Mix Pickles, 32 O...   \n",
       "\n",
       "                                                    title            brand  \\\n",
       "0       Beemster Gouda - Aged 18/24 Months - App. 1.5 Lbs   Ariola Imports   \n",
       "1                               Trim Healthy Mama Xylitol              NaN   \n",
       "2       Letter C - Swarovski Crystal Monogram Wedding ...   Unik Occasions   \n",
       "3       Letter H - Swarovski Crystal Monogram Wedding ...            Other   \n",
       "4       Letter S - Swarovski Crystal Monogram Wedding ...   Unik Occasions   \n",
       "...                                                   ...              ...   \n",
       "287204  Caffarel Fruit Jellies, Organic Assorted, 200 ...         Caffarel   \n",
       "287205      HAMPTON CREEK Spo Just Truffle Mayo, 12 Ounce    Hampton Creek   \n",
       "287206  HAMPTON CREEK Just Ranch Dressing, 12 Fluid Ounce    Hampton Creek   \n",
       "287207  Gourmet Pure Vanilla Bean Pastes - Organically...  Heilala Vanilla   \n",
       "287208  McClure's Pickles Bloody Mary Mix-Spicy-32 oz ...        McClure's   \n",
       "\n",
       "                                                     rank  \\\n",
       "0                            165,181inGroceryGourmetFood(   \n",
       "1                            315,867inGroceryGourmetFood(   \n",
       "2       >#669,941 in Kitchen & Dining (See Top 100 in ...   \n",
       "3       >#832,581 in Kitchen & Dining (See Top 100 in ...   \n",
       "4       >#590,999 in Kitchen & Dining (See Top 100 in ...   \n",
       "...                                                   ...   \n",
       "287204                       369,384inGroceryGourmetFood(   \n",
       "287205                       113,710inGroceryGourmetFood(   \n",
       "287206                        21,731inGroceryGourmetFood(   \n",
       "287207                           472inGroceryGourmetFood(   \n",
       "287208                       265,258inGroceryGourmetFood(   \n",
       "\n",
       "                                                also_view     main_cat  \\\n",
       "0       ['B0000D9MYM', 'B0000D9MYL', 'B00ADHIGBA', 'B0...      Grocery   \n",
       "1                                                     NaN      Grocery   \n",
       "2                                          ['B07DXN65TF']  Amazon Home   \n",
       "3                                                     NaN  Amazon Home   \n",
       "4                                                     NaN  Amazon Home   \n",
       "...                                                   ...          ...   \n",
       "287204                                                NaN      Grocery   \n",
       "287205                                                NaN      Grocery   \n",
       "287206                                                NaN      Grocery   \n",
       "287207                                                NaN      Grocery   \n",
       "287208  ['B007JFV6RK', 'B005VS60ZK', 'B01BV8YFYG', 'B0...      Grocery   \n",
       "\n",
       "         price        asin                                           also_buy  \\\n",
       "0       $41.91  0681727810                                                NaN   \n",
       "1          NaN  0853347867  ['B01898YHXK', 'B01BCM6LAC', 'B00Q4OL47O', 'B0...   \n",
       "2       $29.95  1888861118                                                NaN   \n",
       "3       $11.45  1888861517                                                NaN   \n",
       "4       $15.00  1888861614                                                NaN   \n",
       "...        ...         ...                                                ...   \n",
       "287204     NaN  B01HJFBN9A  ['B01HULC3TC', 'B07C8L4NWL', 'B014UTG6D6', 'B0...   \n",
       "287205  $10.89  B01HJFC704  ['B00WNAEX2Q', 'B071LD7PMJ', 'B01HJF6FRA', 'B0...   \n",
       "287206  $10.95  B01HJF6FRA  ['B071LD7PMJ', 'B00KOHNX6C', 'B00OVN2F64', 'B0...   \n",
       "287207  $14.97  B01HJHSVG6  ['B00DUF219A', 'B01HJHX9ZO', 'B07K4K26PQ', 'B0...   \n",
       "287208  $18.00  B01HJFRDDA                                                NaN   \n",
       "\n",
       "                                                    image                date  \\\n",
       "0                                                     NaN                 NaN   \n",
       "1       ['https://images-na.ssl-images-amazon.com/imag...                 NaN   \n",
       "2                                                     NaN  September 21, 2010   \n",
       "3                                                     NaN  September 11, 2011   \n",
       "4                                                     NaN  September 11, 2011   \n",
       "...                                                   ...                 ...   \n",
       "287204                                                NaN                 NaN   \n",
       "287205                                                NaN                 NaN   \n",
       "287206                                                NaN                 NaN   \n",
       "287207  ['https://images-na.ssl-images-amazon.com/imag...                 NaN   \n",
       "287208  ['https://images-na.ssl-images-amazon.com/imag...                 NaN   \n",
       "\n",
       "                                feature  \\\n",
       "0                                   NaN   \n",
       "1                                   NaN   \n",
       "2                                   NaN   \n",
       "3       ['Large Letter - Height 4.75\"']   \n",
       "4                      ['4.75\" height']   \n",
       "...                                 ...   \n",
       "287204                              NaN   \n",
       "287205                              NaN   \n",
       "287206                              NaN   \n",
       "287207                              NaN   \n",
       "287208                              NaN   \n",
       "\n",
       "                                                  details similar_item tech1  \\\n",
       "0                                                     NaN          NaN   NaN   \n",
       "1                                                     NaN          NaN   NaN   \n",
       "2                                                     NaN          NaN   NaN   \n",
       "3                                                     NaN          NaN   NaN   \n",
       "4                                                     NaN          NaN   NaN   \n",
       "...                                                   ...          ...   ...   \n",
       "287204  \\n      <div class=\"content\">\\n\\n\\n\\n\\n\\n\\n<ul...          NaN   NaN   \n",
       "287205  \\n      <div class=\"content\">\\n\\n\\n\\n\\n\\n\\n<ul...          NaN   NaN   \n",
       "287206  \\n      <div class=\"content\">\\n\\n\\n\\n\\n\\n\\n<ul...          NaN   NaN   \n",
       "287207  \\n\\n\\n\\n\\n\\n    <div class=\"disclaim\">Size: <s...          NaN   NaN   \n",
       "287208  \\n      <div class=\"content\">\\n\\n\\n\\n\\n\\n\\n<ul...          NaN   NaN   \n",
       "\n",
       "        fit  \n",
       "0       NaN  \n",
       "1       NaN  \n",
       "2       NaN  \n",
       "3       NaN  \n",
       "4       NaN  \n",
       "...     ...  \n",
       "287204  NaN  \n",
       "287205  NaN  \n",
       "287206  NaN  \n",
       "287207  NaN  \n",
       "287208  NaN  \n",
       "\n",
       "[287209 rows x 18 columns]"
      ]
     },
     "execution_count": 131,
     "metadata": {},
     "output_type": "execute_result"
    }
   ],
   "source": [
    "meta = pd.read_csv('Downloads/meta.csv/meta.csv')\n",
    "meta.head(3)"
   ]
  },
  {
   "cell_type": "code",
   "execution_count": null,
   "metadata": {},
   "outputs": [],
   "source": []
  },
  {
   "cell_type": "code",
   "execution_count": 93,
   "metadata": {},
   "outputs": [],
   "source": [
    "# Читаем файлы\n",
    "train = pd.read_csv('Downloads/recommendationsv4/train.csv')\n",
    "test = pd.read_csv('Downloads/recommendationsv4/test.csv')\n",
    "sample_submission = pd.read_csv('Downloads/recommendationsv4/sample_submission.csv')\n",
    "#tags = pd.read_csv('Downloads/goodbooks-10k/goodbooks/tags.csv')\n"
   ]
  },
  {
   "cell_type": "code",
   "execution_count": 94,
   "metadata": {},
   "outputs": [
    {
     "name": "stdout",
     "output_type": "stream",
     "text": [
      "<class 'pandas.core.frame.DataFrame'>\n",
      "RangeIndex: 857895 entries, 0 to 857894\n",
      "Data columns (total 14 columns):\n",
      "overall           857895 non-null float64\n",
      "verified          857895 non-null bool\n",
      "reviewTime        857895 non-null object\n",
      "asin              857895 non-null object\n",
      "reviewerName      857719 non-null object\n",
      "reviewText        857616 non-null object\n",
      "summary           857725 non-null object\n",
      "unixReviewTime    857895 non-null int64\n",
      "vote              118740 non-null object\n",
      "style             444406 non-null object\n",
      "image             7142 non-null object\n",
      "userid            857895 non-null int64\n",
      "itemid            857895 non-null int64\n",
      "rating            857895 non-null float64\n",
      "dtypes: bool(1), float64(2), int64(3), object(8)\n",
      "memory usage: 85.9+ MB\n"
     ]
    },
    {
     "data": {
      "text/html": [
       "<div>\n",
       "<style scoped>\n",
       "    .dataframe tbody tr th:only-of-type {\n",
       "        vertical-align: middle;\n",
       "    }\n",
       "\n",
       "    .dataframe tbody tr th {\n",
       "        vertical-align: top;\n",
       "    }\n",
       "\n",
       "    .dataframe thead th {\n",
       "        text-align: right;\n",
       "    }\n",
       "</style>\n",
       "<table border=\"1\" class=\"dataframe\">\n",
       "  <thead>\n",
       "    <tr style=\"text-align: right;\">\n",
       "      <th></th>\n",
       "      <th>overall</th>\n",
       "      <th>verified</th>\n",
       "      <th>reviewTime</th>\n",
       "      <th>asin</th>\n",
       "      <th>reviewerName</th>\n",
       "      <th>reviewText</th>\n",
       "      <th>summary</th>\n",
       "      <th>unixReviewTime</th>\n",
       "      <th>vote</th>\n",
       "      <th>style</th>\n",
       "      <th>image</th>\n",
       "      <th>userid</th>\n",
       "      <th>itemid</th>\n",
       "      <th>rating</th>\n",
       "    </tr>\n",
       "  </thead>\n",
       "  <tbody>\n",
       "    <tr>\n",
       "      <td>0</td>\n",
       "      <td>5.0</td>\n",
       "      <td>True</td>\n",
       "      <td>10 4, 2016</td>\n",
       "      <td>B01CPNIEQG</td>\n",
       "      <td>Heather</td>\n",
       "      <td>These are my FAVORITE spices in my collection....</td>\n",
       "      <td>Must Add to your Spice kitchen!</td>\n",
       "      <td>1475539200</td>\n",
       "      <td>NaN</td>\n",
       "      <td>NaN</td>\n",
       "      <td>NaN</td>\n",
       "      <td>102179</td>\n",
       "      <td>37138</td>\n",
       "      <td>1.0</td>\n",
       "    </tr>\n",
       "    <tr>\n",
       "      <td>1</td>\n",
       "      <td>5.0</td>\n",
       "      <td>True</td>\n",
       "      <td>03 1, 2016</td>\n",
       "      <td>B006F63M8U</td>\n",
       "      <td>Linda Odom</td>\n",
       "      <td>Add A package to my Coffee and it makes a good...</td>\n",
       "      <td>Milk Chocolate Swiis MIss Hot Cocoa Mix</td>\n",
       "      <td>1456790400</td>\n",
       "      <td>NaN</td>\n",
       "      <td>{'Size:': ' 60-0.73 oz Envelopes'}</td>\n",
       "      <td>NaN</td>\n",
       "      <td>3625</td>\n",
       "      <td>17322</td>\n",
       "      <td>1.0</td>\n",
       "    </tr>\n",
       "    <tr>\n",
       "      <td>2</td>\n",
       "      <td>5.0</td>\n",
       "      <td>True</td>\n",
       "      <td>06 26, 2016</td>\n",
       "      <td>B00112O8NG</td>\n",
       "      <td>DesertBlossom</td>\n",
       "      <td>I love the Torani syrups, but not the prices o...</td>\n",
       "      <td>Love these sugar free syrups, but didn't love ...</td>\n",
       "      <td>1466899200</td>\n",
       "      <td>28</td>\n",
       "      <td>NaN</td>\n",
       "      <td>NaN</td>\n",
       "      <td>39495</td>\n",
       "      <td>5600</td>\n",
       "      <td>1.0</td>\n",
       "    </tr>\n",
       "    <tr>\n",
       "      <td>3</td>\n",
       "      <td>5.0</td>\n",
       "      <td>True</td>\n",
       "      <td>09 5, 2013</td>\n",
       "      <td>B00MRAQUM8</td>\n",
       "      <td>Connie L. Reaves</td>\n",
       "      <td>Very fragrant. The price can't be beat. I do l...</td>\n",
       "      <td>Nice !</td>\n",
       "      <td>1378339200</td>\n",
       "      <td>NaN</td>\n",
       "      <td>NaN</td>\n",
       "      <td>NaN</td>\n",
       "      <td>72854</td>\n",
       "      <td>30249</td>\n",
       "      <td>1.0</td>\n",
       "    </tr>\n",
       "    <tr>\n",
       "      <td>4</td>\n",
       "      <td>5.0</td>\n",
       "      <td>True</td>\n",
       "      <td>09 14, 2016</td>\n",
       "      <td>B000R7RN0G</td>\n",
       "      <td>Mike P.</td>\n",
       "      <td>These are my favorite jalapeno chips so far. T...</td>\n",
       "      <td>These are my favorite jalapeno chips so far</td>\n",
       "      <td>1473811200</td>\n",
       "      <td>NaN</td>\n",
       "      <td>{'Flavor:': ' Jalapeo'}</td>\n",
       "      <td>NaN</td>\n",
       "      <td>74859</td>\n",
       "      <td>4349</td>\n",
       "      <td>1.0</td>\n",
       "    </tr>\n",
       "  </tbody>\n",
       "</table>\n",
       "</div>"
      ],
      "text/plain": [
       "   overall  verified   reviewTime        asin      reviewerName  \\\n",
       "0      5.0      True   10 4, 2016  B01CPNIEQG           Heather   \n",
       "1      5.0      True   03 1, 2016  B006F63M8U        Linda Odom   \n",
       "2      5.0      True  06 26, 2016  B00112O8NG     DesertBlossom   \n",
       "3      5.0      True   09 5, 2013  B00MRAQUM8  Connie L. Reaves   \n",
       "4      5.0      True  09 14, 2016  B000R7RN0G           Mike P.   \n",
       "\n",
       "                                          reviewText  \\\n",
       "0  These are my FAVORITE spices in my collection....   \n",
       "1  Add A package to my Coffee and it makes a good...   \n",
       "2  I love the Torani syrups, but not the prices o...   \n",
       "3  Very fragrant. The price can't be beat. I do l...   \n",
       "4  These are my favorite jalapeno chips so far. T...   \n",
       "\n",
       "                                             summary  unixReviewTime vote  \\\n",
       "0                    Must Add to your Spice kitchen!      1475539200  NaN   \n",
       "1            Milk Chocolate Swiis MIss Hot Cocoa Mix      1456790400  NaN   \n",
       "2  Love these sugar free syrups, but didn't love ...      1466899200   28   \n",
       "3                                             Nice !      1378339200  NaN   \n",
       "4        These are my favorite jalapeno chips so far      1473811200  NaN   \n",
       "\n",
       "                                style image  userid  itemid  rating  \n",
       "0                                 NaN   NaN  102179   37138     1.0  \n",
       "1  {'Size:': ' 60-0.73 oz Envelopes'}   NaN    3625   17322     1.0  \n",
       "2                                 NaN   NaN   39495    5600     1.0  \n",
       "3                                 NaN   NaN   72854   30249     1.0  \n",
       "4             {'Flavor:': ' Jalapeo'}   NaN   74859    4349     1.0  "
      ]
     },
     "execution_count": 94,
     "metadata": {},
     "output_type": "execute_result"
    }
   ],
   "source": [
    "train.info()\n",
    "train.head(5)"
   ]
  },
  {
   "cell_type": "code",
   "execution_count": 133,
   "metadata": {},
   "outputs": [
    {
     "data": {
      "text/plain": [
       "overall           0.000000\n",
       "verified          0.000000\n",
       "asin              0.000000\n",
       "reviewerName      0.020515\n",
       "reviewText        0.032521\n",
       "summary           0.019816\n",
       "unixReviewTime    0.000000\n",
       "userid            0.000000\n",
       "itemid            0.000000\n",
       "rating            0.000000\n",
       "dtype: float64"
      ]
     },
     "execution_count": 133,
     "metadata": {},
     "output_type": "execute_result"
    }
   ],
   "source": [
    "# Определим процент незаполненных данных в столбцах: удалим столбцы vote, style, image с пропусками более 48%\n",
    "\n",
    "train.isnull().sum()/857895*100"
   ]
  },
  {
   "cell_type": "code",
   "execution_count": 95,
   "metadata": {},
   "outputs": [],
   "source": [
    "# Удалим столбцы с большим количеством пропусков, дату отзыва (оставим дату в формате unix), \n",
    "\n",
    "train = train.drop(['vote', 'style', 'image', 'reviewTime'], axis = 1)"
   ]
  },
  {
   "cell_type": "code",
   "execution_count": 23,
   "metadata": {},
   "outputs": [
    {
     "name": "stdout",
     "output_type": "stream",
     "text": [
      "[1. 0.]\n"
     ]
    },
    {
     "data": {
      "image/png": "[encoded data removed]",
      "text/plain": [
       "<Figure size 720x360 with 1 Axes>"
      ]
     },
     "metadata": {},
     "output_type": "display_data"
    }
   ],
   "source": [
    "print(train['rating'].unique())\n",
    "with sns.axes_style('white'):\n",
    "    g = sns.factorplot(\"rating\", data=train, aspect=2.0,kind='count')\n",
    "    g.set_ylabels(\"Total number of ratings\")"
   ]
  },
  {
   "cell_type": "code",
   "execution_count": 24,
   "metadata": {},
   "outputs": [
    {
     "data": {
      "text/plain": [
       "array(['Heather', 'Linda Odom', 'DesertBlossom', ..., 'groovyganesh',\n",
       "       '*****vy', 'Grass'], dtype=object)"
      ]
     },
     "execution_count": 24,
     "metadata": {},
     "output_type": "execute_result"
    }
   ],
   "source": [
    "train['reviewerName'].unique()"
   ]
  },
  {
   "cell_type": "code",
   "execution_count": 34,
   "metadata": {},
   "outputs": [
    {
     "name": "stdout",
     "output_type": "stream",
     "text": [
      "jr\n"
     ]
    }
   ],
   "source": [
    "# Создадим новые признаки оценок пользователя из значений reviewText и summary\n",
    "\n",
    "words_5 = ['favorite', 'nice', 'great', 'best', 'favorite', 'wonderful', 'love', 'five stars', 'magic', 'perfect','very nice', 'lucky' ]\n",
    "words_4 = ['good', 'better', 'four stars', 'glad', 'surprised']\n",
    "words_3 = ['three stars']\n",
    "words_1 = ['break', \"I'd not buy\", 'bad', 'one star']\n",
    " \n",
    "train['reviewText'] = train['reviewText'].fillna('no')\n",
    "train['summary'] = train['summary'].fillna('no')\n",
    "\n",
    "def rate (desc):\n",
    "# функция определяет оценку на основании отзыва по реперным словам\n",
    "    \n",
    "    desc = desc.lower()\n",
    "    for w in words_1:\n",
    "        if w in desc:\n",
    "            return 1\n",
    "    for w in words_5:\n",
    "        if w in desc:\n",
    "            return 5  \n",
    "    for w in words_4:\n",
    "        if w in desc:\n",
    "            return 4 \n",
    "        elif  words_3[0] in desc:\n",
    "            return 3\n",
    "        else:\n",
    "            return 2 \n",
    "    \n",
    "train['rate_rewiew'] = train['reviewText'].apply(rate)  \n",
    "print('ok1')\n",
    "train['rate_summary'] = train['summary'].apply(rate)   \n",
    "print('ok2')\n",
    "\n",
    "for i in range(0,len(train)):       # оставим большую из оценок\n",
    "    train['rate_summary'][i] =  max(train['rate_summary'][i], train['rate_rewiew'][i])\n",
    "    "
   ]
  },
  {
   "cell_type": "code",
   "execution_count": 35,
   "metadata": {},
   "outputs": [
    {
     "data": {
      "text/html": [
       "<div>\n",
       "<style scoped>\n",
       "    .dataframe tbody tr th:only-of-type {\n",
       "        vertical-align: middle;\n",
       "    }\n",
       "\n",
       "    .dataframe tbody tr th {\n",
       "        vertical-align: top;\n",
       "    }\n",
       "\n",
       "    .dataframe thead th {\n",
       "        text-align: right;\n",
       "    }\n",
       "</style>\n",
       "<table border=\"1\" class=\"dataframe\">\n",
       "  <thead>\n",
       "    <tr style=\"text-align: right;\">\n",
       "      <th></th>\n",
       "      <th>overall</th>\n",
       "      <th>verified</th>\n",
       "      <th>reviewTime</th>\n",
       "      <th>asin</th>\n",
       "      <th>reviewerName</th>\n",
       "      <th>reviewText</th>\n",
       "      <th>summary</th>\n",
       "      <th>unixReviewTime</th>\n",
       "      <th>userid</th>\n",
       "      <th>itemid</th>\n",
       "      <th>rating</th>\n",
       "      <th>rate_rewiew</th>\n",
       "      <th>rate_summary</th>\n",
       "    </tr>\n",
       "  </thead>\n",
       "  <tbody>\n",
       "    <tr>\n",
       "      <td>0</td>\n",
       "      <td>5.0</td>\n",
       "      <td>True</td>\n",
       "      <td>10 4, 2016</td>\n",
       "      <td>B01CPNIEQG</td>\n",
       "      <td>Heather</td>\n",
       "      <td>These are my FAVORITE spices in my collection....</td>\n",
       "      <td>Must Add to your Spice kitchen!</td>\n",
       "      <td>1475539200</td>\n",
       "      <td>102179</td>\n",
       "      <td>37138</td>\n",
       "      <td>1.0</td>\n",
       "      <td>5</td>\n",
       "      <td>2</td>\n",
       "    </tr>\n",
       "    <tr>\n",
       "      <td>1</td>\n",
       "      <td>5.0</td>\n",
       "      <td>True</td>\n",
       "      <td>03 1, 2016</td>\n",
       "      <td>B006F63M8U</td>\n",
       "      <td>Linda Odom</td>\n",
       "      <td>Add A package to my Coffee and it makes a good...</td>\n",
       "      <td>Milk Chocolate Swiis MIss Hot Cocoa Mix</td>\n",
       "      <td>1456790400</td>\n",
       "      <td>3625</td>\n",
       "      <td>17322</td>\n",
       "      <td>1.0</td>\n",
       "      <td>4</td>\n",
       "      <td>2</td>\n",
       "    </tr>\n",
       "    <tr>\n",
       "      <td>2</td>\n",
       "      <td>5.0</td>\n",
       "      <td>True</td>\n",
       "      <td>06 26, 2016</td>\n",
       "      <td>B00112O8NG</td>\n",
       "      <td>DesertBlossom</td>\n",
       "      <td>I love the Torani syrups, but not the prices o...</td>\n",
       "      <td>Love these sugar free syrups, but didn't love ...</td>\n",
       "      <td>1466899200</td>\n",
       "      <td>39495</td>\n",
       "      <td>5600</td>\n",
       "      <td>1.0</td>\n",
       "      <td>1</td>\n",
       "      <td>5</td>\n",
       "    </tr>\n",
       "    <tr>\n",
       "      <td>3</td>\n",
       "      <td>5.0</td>\n",
       "      <td>True</td>\n",
       "      <td>09 5, 2013</td>\n",
       "      <td>B00MRAQUM8</td>\n",
       "      <td>Connie L. Reaves</td>\n",
       "      <td>Very fragrant. The price can't be beat. I do l...</td>\n",
       "      <td>Nice !</td>\n",
       "      <td>1378339200</td>\n",
       "      <td>72854</td>\n",
       "      <td>30249</td>\n",
       "      <td>1.0</td>\n",
       "      <td>4</td>\n",
       "      <td>5</td>\n",
       "    </tr>\n",
       "    <tr>\n",
       "      <td>4</td>\n",
       "      <td>5.0</td>\n",
       "      <td>True</td>\n",
       "      <td>09 14, 2016</td>\n",
       "      <td>B000R7RN0G</td>\n",
       "      <td>Mike P.</td>\n",
       "      <td>These are my favorite jalapeno chips so far. T...</td>\n",
       "      <td>These are my favorite jalapeno chips so far</td>\n",
       "      <td>1473811200</td>\n",
       "      <td>74859</td>\n",
       "      <td>4349</td>\n",
       "      <td>1.0</td>\n",
       "      <td>5</td>\n",
       "      <td>5</td>\n",
       "    </tr>\n",
       "    <tr>\n",
       "      <td>...</td>\n",
       "      <td>...</td>\n",
       "      <td>...</td>\n",
       "      <td>...</td>\n",
       "      <td>...</td>\n",
       "      <td>...</td>\n",
       "      <td>...</td>\n",
       "      <td>...</td>\n",
       "      <td>...</td>\n",
       "      <td>...</td>\n",
       "      <td>...</td>\n",
       "      <td>...</td>\n",
       "      <td>...</td>\n",
       "      <td>...</td>\n",
       "    </tr>\n",
       "    <tr>\n",
       "      <td>857890</td>\n",
       "      <td>5.0</td>\n",
       "      <td>True</td>\n",
       "      <td>04 2, 2013</td>\n",
       "      <td>B000H7ELTW</td>\n",
       "      <td>chezlouise</td>\n",
       "      <td>Next to the round variety hanging on my cherry...</td>\n",
       "      <td>next to the round variety............</td>\n",
       "      <td>1364860800</td>\n",
       "      <td>59433</td>\n",
       "      <td>2566</td>\n",
       "      <td>1.0</td>\n",
       "      <td>5</td>\n",
       "      <td>2</td>\n",
       "    </tr>\n",
       "    <tr>\n",
       "      <td>857891</td>\n",
       "      <td>2.0</td>\n",
       "      <td>True</td>\n",
       "      <td>12 13, 2015</td>\n",
       "      <td>B0012NI02O</td>\n",
       "      <td>Robert F. O&amp;#039;Bryan</td>\n",
       "      <td>Not my cup of tea.</td>\n",
       "      <td>Two Stars</td>\n",
       "      <td>1449964800</td>\n",
       "      <td>86473</td>\n",
       "      <td>5828</td>\n",
       "      <td>0.0</td>\n",
       "      <td>2</td>\n",
       "      <td>1</td>\n",
       "    </tr>\n",
       "    <tr>\n",
       "      <td>857892</td>\n",
       "      <td>4.0</td>\n",
       "      <td>False</td>\n",
       "      <td>09 21, 2016</td>\n",
       "      <td>B000LKX6R8</td>\n",
       "      <td>bamboo grove</td>\n",
       "      <td>I really like these noodles, I just gave it on...</td>\n",
       "      <td>good but better value elsewhere</td>\n",
       "      <td>1474416000</td>\n",
       "      <td>88</td>\n",
       "      <td>3251</td>\n",
       "      <td>1.0</td>\n",
       "      <td>1</td>\n",
       "      <td>4</td>\n",
       "    </tr>\n",
       "    <tr>\n",
       "      <td>857893</td>\n",
       "      <td>4.0</td>\n",
       "      <td>True</td>\n",
       "      <td>11 1, 2015</td>\n",
       "      <td>B00BUKL666</td>\n",
       "      <td>Speedway91</td>\n",
       "      <td>I like these, they are the kind for a snack an...</td>\n",
       "      <td>Great selection</td>\n",
       "      <td>1446336000</td>\n",
       "      <td>41540</td>\n",
       "      <td>22208</td>\n",
       "      <td>1.0</td>\n",
       "      <td>5</td>\n",
       "      <td>5</td>\n",
       "    </tr>\n",
       "    <tr>\n",
       "      <td>857894</td>\n",
       "      <td>5.0</td>\n",
       "      <td>True</td>\n",
       "      <td>08 3, 2017</td>\n",
       "      <td>B000JJHDVG</td>\n",
       "      <td>Elizabeth E. Castor</td>\n",
       "      <td>Like this product.  Its great in the shaker fo...</td>\n",
       "      <td>Five Stars</td>\n",
       "      <td>1501718400</td>\n",
       "      <td>466</td>\n",
       "      <td>2931</td>\n",
       "      <td>1.0</td>\n",
       "      <td>5</td>\n",
       "      <td>5</td>\n",
       "    </tr>\n",
       "  </tbody>\n",
       "</table>\n",
       "<p>857895 rows × 13 columns</p>\n",
       "</div>"
      ],
      "text/plain": [
       "        overall  verified   reviewTime        asin            reviewerName  \\\n",
       "0           5.0      True   10 4, 2016  B01CPNIEQG                 Heather   \n",
       "1           5.0      True   03 1, 2016  B006F63M8U              Linda Odom   \n",
       "2           5.0      True  06 26, 2016  B00112O8NG           DesertBlossom   \n",
       "3           5.0      True   09 5, 2013  B00MRAQUM8        Connie L. Reaves   \n",
       "4           5.0      True  09 14, 2016  B000R7RN0G                 Mike P.   \n",
       "...         ...       ...          ...         ...                     ...   \n",
       "857890      5.0      True   04 2, 2013  B000H7ELTW              chezlouise   \n",
       "857891      2.0      True  12 13, 2015  B0012NI02O  Robert F. O&#039;Bryan   \n",
       "857892      4.0     False  09 21, 2016  B000LKX6R8            bamboo grove   \n",
       "857893      4.0      True   11 1, 2015  B00BUKL666              Speedway91   \n",
       "857894      5.0      True   08 3, 2017  B000JJHDVG     Elizabeth E. Castor   \n",
       "\n",
       "                                               reviewText  \\\n",
       "0       These are my FAVORITE spices in my collection....   \n",
       "1       Add A package to my Coffee and it makes a good...   \n",
       "2       I love the Torani syrups, but not the prices o...   \n",
       "3       Very fragrant. The price can't be beat. I do l...   \n",
       "4       These are my favorite jalapeno chips so far. T...   \n",
       "...                                                   ...   \n",
       "857890  Next to the round variety hanging on my cherry...   \n",
       "857891                                 Not my cup of tea.   \n",
       "857892  I really like these noodles, I just gave it on...   \n",
       "857893  I like these, they are the kind for a snack an...   \n",
       "857894  Like this product.  Its great in the shaker fo...   \n",
       "\n",
       "                                                  summary  unixReviewTime  \\\n",
       "0                         Must Add to your Spice kitchen!      1475539200   \n",
       "1                 Milk Chocolate Swiis MIss Hot Cocoa Mix      1456790400   \n",
       "2       Love these sugar free syrups, but didn't love ...      1466899200   \n",
       "3                                                  Nice !      1378339200   \n",
       "4             These are my favorite jalapeno chips so far      1473811200   \n",
       "...                                                   ...             ...   \n",
       "857890              next to the round variety............      1364860800   \n",
       "857891                                          Two Stars      1449964800   \n",
       "857892                    good but better value elsewhere      1474416000   \n",
       "857893                                    Great selection      1446336000   \n",
       "857894                                         Five Stars      1501718400   \n",
       "\n",
       "        userid  itemid  rating  rate_rewiew  rate_summary  \n",
       "0       102179   37138     1.0            5             2  \n",
       "1         3625   17322     1.0            4             2  \n",
       "2        39495    5600     1.0            1             5  \n",
       "3        72854   30249     1.0            4             5  \n",
       "4        74859    4349     1.0            5             5  \n",
       "...        ...     ...     ...          ...           ...  \n",
       "857890   59433    2566     1.0            5             2  \n",
       "857891   86473    5828     0.0            2             1  \n",
       "857892      88    3251     1.0            1             4  \n",
       "857893   41540   22208     1.0            5             5  \n",
       "857894     466    2931     1.0            5             5  \n",
       "\n",
       "[857895 rows x 13 columns]"
      ]
     },
     "execution_count": 35,
     "metadata": {},
     "output_type": "execute_result"
    }
   ],
   "source": [
    "train"
   ]
  },
  {
   "cell_type": "code",
   "execution_count": 42,
   "metadata": {},
   "outputs": [
    {
     "data": {
      "text/plain": [
       "5    425890\n",
       "2    272491\n",
       "4    119854\n",
       "1     39523\n",
       "3       137\n",
       "Name: rate_rewiew, dtype: int64"
      ]
     },
     "metadata": {},
     "output_type": "display_data"
    },
    {
     "data": {
      "text/plain": [
       "2    374704\n",
       "5    374661\n",
       "4     78410\n",
       "1     18057\n",
       "3     12063\n",
       "Name: rate_summary, dtype: int64"
      ]
     },
     "metadata": {},
     "output_type": "display_data"
    },
    {
     "data": {
      "text/html": [
       "<div>\n",
       "<style scoped>\n",
       "    .dataframe tbody tr th:only-of-type {\n",
       "        vertical-align: middle;\n",
       "    }\n",
       "\n",
       "    .dataframe tbody tr th {\n",
       "        vertical-align: top;\n",
       "    }\n",
       "\n",
       "    .dataframe thead th {\n",
       "        text-align: right;\n",
       "    }\n",
       "</style>\n",
       "<table border=\"1\" class=\"dataframe\">\n",
       "  <thead>\n",
       "    <tr style=\"text-align: right;\">\n",
       "      <th></th>\n",
       "      <th>overall</th>\n",
       "      <th>verified</th>\n",
       "      <th>reviewTime</th>\n",
       "      <th>asin</th>\n",
       "      <th>reviewerName</th>\n",
       "      <th>reviewText</th>\n",
       "      <th>summary</th>\n",
       "      <th>unixReviewTime</th>\n",
       "      <th>userid</th>\n",
       "      <th>itemid</th>\n",
       "      <th>rating</th>\n",
       "      <th>rate_rewiew</th>\n",
       "      <th>rate_summary</th>\n",
       "    </tr>\n",
       "  </thead>\n",
       "  <tbody>\n",
       "    <tr>\n",
       "      <td>0</td>\n",
       "      <td>5.0</td>\n",
       "      <td>True</td>\n",
       "      <td>10 4, 2016</td>\n",
       "      <td>B01CPNIEQG</td>\n",
       "      <td>Heather</td>\n",
       "      <td>These are my FAVORITE spices in my collection....</td>\n",
       "      <td>Must Add to your Spice kitchen!</td>\n",
       "      <td>1475539200</td>\n",
       "      <td>102179</td>\n",
       "      <td>37138</td>\n",
       "      <td>1.0</td>\n",
       "      <td>5</td>\n",
       "      <td>2</td>\n",
       "    </tr>\n",
       "    <tr>\n",
       "      <td>1</td>\n",
       "      <td>5.0</td>\n",
       "      <td>True</td>\n",
       "      <td>03 1, 2016</td>\n",
       "      <td>B006F63M8U</td>\n",
       "      <td>Linda Odom</td>\n",
       "      <td>Add A package to my Coffee and it makes a good...</td>\n",
       "      <td>Milk Chocolate Swiis MIss Hot Cocoa Mix</td>\n",
       "      <td>1456790400</td>\n",
       "      <td>3625</td>\n",
       "      <td>17322</td>\n",
       "      <td>1.0</td>\n",
       "      <td>4</td>\n",
       "      <td>2</td>\n",
       "    </tr>\n",
       "    <tr>\n",
       "      <td>2</td>\n",
       "      <td>5.0</td>\n",
       "      <td>True</td>\n",
       "      <td>06 26, 2016</td>\n",
       "      <td>B00112O8NG</td>\n",
       "      <td>DesertBlossom</td>\n",
       "      <td>I love the Torani syrups, but not the prices o...</td>\n",
       "      <td>Love these sugar free syrups, but didn't love ...</td>\n",
       "      <td>1466899200</td>\n",
       "      <td>39495</td>\n",
       "      <td>5600</td>\n",
       "      <td>1.0</td>\n",
       "      <td>1</td>\n",
       "      <td>5</td>\n",
       "    </tr>\n",
       "    <tr>\n",
       "      <td>3</td>\n",
       "      <td>5.0</td>\n",
       "      <td>True</td>\n",
       "      <td>09 5, 2013</td>\n",
       "      <td>B00MRAQUM8</td>\n",
       "      <td>Connie L. Reaves</td>\n",
       "      <td>Very fragrant. The price can't be beat. I do l...</td>\n",
       "      <td>Nice !</td>\n",
       "      <td>1378339200</td>\n",
       "      <td>72854</td>\n",
       "      <td>30249</td>\n",
       "      <td>1.0</td>\n",
       "      <td>4</td>\n",
       "      <td>5</td>\n",
       "    </tr>\n",
       "    <tr>\n",
       "      <td>5</td>\n",
       "      <td>5.0</td>\n",
       "      <td>True</td>\n",
       "      <td>02 24, 2014</td>\n",
       "      <td>B0009F3PM6</td>\n",
       "      <td>indy</td>\n",
       "      <td>If you are tired of peppermint blends, this is...</td>\n",
       "      <td>best tea ever!!!</td>\n",
       "      <td>1393200000</td>\n",
       "      <td>27865</td>\n",
       "      <td>931</td>\n",
       "      <td>1.0</td>\n",
       "      <td>2</td>\n",
       "      <td>5</td>\n",
       "    </tr>\n",
       "    <tr>\n",
       "      <td>...</td>\n",
       "      <td>...</td>\n",
       "      <td>...</td>\n",
       "      <td>...</td>\n",
       "      <td>...</td>\n",
       "      <td>...</td>\n",
       "      <td>...</td>\n",
       "      <td>...</td>\n",
       "      <td>...</td>\n",
       "      <td>...</td>\n",
       "      <td>...</td>\n",
       "      <td>...</td>\n",
       "      <td>...</td>\n",
       "      <td>...</td>\n",
       "    </tr>\n",
       "    <tr>\n",
       "      <td>857886</td>\n",
       "      <td>5.0</td>\n",
       "      <td>True</td>\n",
       "      <td>09 4, 2017</td>\n",
       "      <td>B01D5GA2IK</td>\n",
       "      <td>BNorthCovRI</td>\n",
       "      <td>The real deal - excellent quality and taste !</td>\n",
       "      <td>Five Stars</td>\n",
       "      <td>1504483200</td>\n",
       "      <td>2676</td>\n",
       "      <td>37274</td>\n",
       "      <td>1.0</td>\n",
       "      <td>2</td>\n",
       "      <td>5</td>\n",
       "    </tr>\n",
       "    <tr>\n",
       "      <td>857888</td>\n",
       "      <td>5.0</td>\n",
       "      <td>True</td>\n",
       "      <td>06 4, 2015</td>\n",
       "      <td>B00E9OWXGW</td>\n",
       "      <td>J. Jolly</td>\n",
       "      <td>Yummy</td>\n",
       "      <td>Five Stars</td>\n",
       "      <td>1433376000</td>\n",
       "      <td>74258</td>\n",
       "      <td>24577</td>\n",
       "      <td>1.0</td>\n",
       "      <td>2</td>\n",
       "      <td>5</td>\n",
       "    </tr>\n",
       "    <tr>\n",
       "      <td>857890</td>\n",
       "      <td>5.0</td>\n",
       "      <td>True</td>\n",
       "      <td>04 2, 2013</td>\n",
       "      <td>B000H7ELTW</td>\n",
       "      <td>chezlouise</td>\n",
       "      <td>Next to the round variety hanging on my cherry...</td>\n",
       "      <td>next to the round variety............</td>\n",
       "      <td>1364860800</td>\n",
       "      <td>59433</td>\n",
       "      <td>2566</td>\n",
       "      <td>1.0</td>\n",
       "      <td>5</td>\n",
       "      <td>2</td>\n",
       "    </tr>\n",
       "    <tr>\n",
       "      <td>857891</td>\n",
       "      <td>2.0</td>\n",
       "      <td>True</td>\n",
       "      <td>12 13, 2015</td>\n",
       "      <td>B0012NI02O</td>\n",
       "      <td>Robert F. O&amp;#039;Bryan</td>\n",
       "      <td>Not my cup of tea.</td>\n",
       "      <td>Two Stars</td>\n",
       "      <td>1449964800</td>\n",
       "      <td>86473</td>\n",
       "      <td>5828</td>\n",
       "      <td>0.0</td>\n",
       "      <td>2</td>\n",
       "      <td>1</td>\n",
       "    </tr>\n",
       "    <tr>\n",
       "      <td>857892</td>\n",
       "      <td>4.0</td>\n",
       "      <td>False</td>\n",
       "      <td>09 21, 2016</td>\n",
       "      <td>B000LKX6R8</td>\n",
       "      <td>bamboo grove</td>\n",
       "      <td>I really like these noodles, I just gave it on...</td>\n",
       "      <td>good but better value elsewhere</td>\n",
       "      <td>1474416000</td>\n",
       "      <td>88</td>\n",
       "      <td>3251</td>\n",
       "      <td>1.0</td>\n",
       "      <td>1</td>\n",
       "      <td>4</td>\n",
       "    </tr>\n",
       "  </tbody>\n",
       "</table>\n",
       "<p>435491 rows × 13 columns</p>\n",
       "</div>"
      ],
      "text/plain": [
       "        overall  verified   reviewTime        asin            reviewerName  \\\n",
       "0           5.0      True   10 4, 2016  B01CPNIEQG                 Heather   \n",
       "1           5.0      True   03 1, 2016  B006F63M8U              Linda Odom   \n",
       "2           5.0      True  06 26, 2016  B00112O8NG           DesertBlossom   \n",
       "3           5.0      True   09 5, 2013  B00MRAQUM8        Connie L. Reaves   \n",
       "5           5.0      True  02 24, 2014  B0009F3PM6                    indy   \n",
       "...         ...       ...          ...         ...                     ...   \n",
       "857886      5.0      True   09 4, 2017  B01D5GA2IK             BNorthCovRI   \n",
       "857888      5.0      True   06 4, 2015  B00E9OWXGW                J. Jolly   \n",
       "857890      5.0      True   04 2, 2013  B000H7ELTW              chezlouise   \n",
       "857891      2.0      True  12 13, 2015  B0012NI02O  Robert F. O&#039;Bryan   \n",
       "857892      4.0     False  09 21, 2016  B000LKX6R8            bamboo grove   \n",
       "\n",
       "                                               reviewText  \\\n",
       "0       These are my FAVORITE spices in my collection....   \n",
       "1       Add A package to my Coffee and it makes a good...   \n",
       "2       I love the Torani syrups, but not the prices o...   \n",
       "3       Very fragrant. The price can't be beat. I do l...   \n",
       "5       If you are tired of peppermint blends, this is...   \n",
       "...                                                   ...   \n",
       "857886      The real deal - excellent quality and taste !   \n",
       "857888                                              Yummy   \n",
       "857890  Next to the round variety hanging on my cherry...   \n",
       "857891                                 Not my cup of tea.   \n",
       "857892  I really like these noodles, I just gave it on...   \n",
       "\n",
       "                                                  summary  unixReviewTime  \\\n",
       "0                         Must Add to your Spice kitchen!      1475539200   \n",
       "1                 Milk Chocolate Swiis MIss Hot Cocoa Mix      1456790400   \n",
       "2       Love these sugar free syrups, but didn't love ...      1466899200   \n",
       "3                                                  Nice !      1378339200   \n",
       "5                                        best tea ever!!!      1393200000   \n",
       "...                                                   ...             ...   \n",
       "857886                                         Five Stars      1504483200   \n",
       "857888                                         Five Stars      1433376000   \n",
       "857890              next to the round variety............      1364860800   \n",
       "857891                                          Two Stars      1449964800   \n",
       "857892                    good but better value elsewhere      1474416000   \n",
       "\n",
       "        userid  itemid  rating  rate_rewiew  rate_summary  \n",
       "0       102179   37138     1.0            5             2  \n",
       "1         3625   17322     1.0            4             2  \n",
       "2        39495    5600     1.0            1             5  \n",
       "3        72854   30249     1.0            4             5  \n",
       "5        27865     931     1.0            2             5  \n",
       "...        ...     ...     ...          ...           ...  \n",
       "857886    2676   37274     1.0            2             5  \n",
       "857888   74258   24577     1.0            2             5  \n",
       "857890   59433    2566     1.0            5             2  \n",
       "857891   86473    5828     0.0            2             1  \n",
       "857892      88    3251     1.0            1             4  \n",
       "\n",
       "[435491 rows x 13 columns]"
      ]
     },
     "execution_count": 42,
     "metadata": {},
     "output_type": "execute_result"
    }
   ],
   "source": [
    "display(train['rate_rewiew'].value_counts())\n",
    "display(train['rate_summary'].value_counts())\n",
    "train[train.rate_rewiew != train.rate_summary]"
   ]
  },
  {
   "cell_type": "code",
   "execution_count": 89,
   "metadata": {},
   "outputs": [
    {
     "name": "stdout",
     "output_type": "stream",
     "text": [
      "[5 4 2 1 3]\n",
      "[5. 4. 1. 2. 3.]\n"
     ]
    },
    {
     "data": {
      "image/png": "[encoded data removed]",
      "text/plain": [
       "<Figure size 720x360 with 1 Axes>"
      ]
     },
     "metadata": {},
     "output_type": "display_data"
    },
    {
     "data": {
      "image/png": "[encoded data removed]",
      "text/plain": [
       "<Figure size 720x360 with 1 Axes>"
      ]
     },
     "metadata": {},
     "output_type": "display_data"
    }
   ],
   "source": [
    "# Сравним диаграммы оценок, определенных из отзывов, и проставленных пользователем.\n",
    "# Есть различие между распределением оценок1, 2, 3, но в остальном пропорция сохраняется, особенно если делить на 'хорошие' и 'плохие' оценки\n",
    "# Можно сделать вывод, что поле rating собственно и отражает деление на  'хорошие' и 'плохие' оценки\n",
    "\n",
    "print(train['rate_summary'].unique())\n",
    "with sns.axes_style('white'):\n",
    "    g = sns.factorplot(\"rate_summary\", data=train, aspect=2.0,kind='count')\n",
    "    g.set_ylabels(\"Total number of ratings\")\n",
    "                  \n",
    "print(train['overall'].unique())\n",
    "with sns.axes_style('white'):\n",
    "    g = sns.factorplot(\"overall\", data=train, aspect=2.0,kind='count')\n",
    "    g.set_ylabels(\"Total number of ratings\")"
   ]
  },
  {
   "cell_type": "code",
   "execution_count": null,
   "metadata": {},
   "outputs": [],
   "source": []
  },
  {
   "cell_type": "code",
   "execution_count": 134,
   "metadata": {},
   "outputs": [],
   "source": [
    "# нормализуем дату отзыва\n",
    "\n",
    "train['norm_ReviewTime'] = normalize(train.unixReviewTime[:, np.newaxis], axis=0).ravel()"
   ]
  },
  {
   "cell_type": "code",
   "execution_count": 86,
   "metadata": {},
   "outputs": [
    {
     "data": {
      "text/plain": [
       "2"
      ]
     },
     "execution_count": 86,
     "metadata": {},
     "output_type": "execute_result"
    }
   ],
   "source": [
    "train"
   ]
  },
  {
   "cell_type": "code",
   "execution_count": 135,
   "metadata": {},
   "outputs": [
    {
     "data": {
      "text/plain": [
       "0         0.001104\n",
       "1         0.001090\n",
       "2         0.001098\n",
       "3         0.001031\n",
       "4         0.001103\n",
       "            ...   \n",
       "857890    0.001021\n",
       "857891    0.001085\n",
       "857892    0.001103\n",
       "857893    0.001082\n",
       "857894    0.001124\n",
       "Name: norm_ReviewTime, Length: 857895, dtype: float64"
      ]
     },
     "execution_count": 135,
     "metadata": {},
     "output_type": "execute_result"
    }
   ],
   "source": [
    "train['norm_ReviewTime'] "
   ]
  },
  {
   "cell_type": "markdown",
   "metadata": {},
   "source": [
    "# Reader колабративная фильтрация методом ближайших соседей"
   ]
  },
  {
   "cell_type": "code",
   "execution_count": 139,
   "metadata": {},
   "outputs": [],
   "source": [
    "user_sample = train.userid.sample(100000)\n",
    "item_sample = train.itemid.sample(50000)"
   ]
  },
  {
   "cell_type": "code",
   "execution_count": 140,
   "metadata": {},
   "outputs": [],
   "source": [
    "reader = Reader(rating_scale=(0.5, 5.0))\n",
    "data = Dataset.load_from_df(train[train.userid.isin(user_sample) &\n",
    "                              train.itemid.isin(item_sample)][['userid', 'itemid', 'overall']], reader)"
   ]
  },
  {
   "cell_type": "code",
   "execution_count": 141,
   "metadata": {},
   "outputs": [],
   "source": [
    "from surprise import KNNBasic\n",
    "\n",
    "sim_options = {\n",
    "    'name': 'cosine',\n",
    "    'user_based': False\n",
    "}\n",
    " \n",
    "knn = KNNBasic(sim_options=sim_options)"
   ]
  },
  {
   "cell_type": "code",
   "execution_count": 143,
   "metadata": {},
   "outputs": [],
   "source": [
    "trainingSet = data.build_full_trainset()"
   ]
  },
  {
   "cell_type": "code",
   "execution_count": 181,
   "metadata": {},
   "outputs": [
    {
     "name": "stdout",
     "output_type": "stream",
     "text": [
      "Computing the cosine similarity matrix...\n",
      "Done computing similarity matrix.\n"
     ]
    }
   ],
   "source": [
    "model = knn.fit(trainingSet)"
   ]
  },
  {
   "cell_type": "code",
   "execution_count": 183,
   "metadata": {},
   "outputs": [
    {
     "ename": "AttributeError",
     "evalue": "'DataFrame' object has no attribute 'build_full_trainset'",
     "output_type": "error",
     "traceback": [
      "\u001b[1;31m---------------------------------------------------------------------------\u001b[0m",
      "\u001b[1;31mAttributeError\u001b[0m                            Traceback (most recent call last)",
      "\u001b[1;32m<ipython-input-183-83dc4e7f307f>\u001b[0m in \u001b[0;36m<module>\u001b[1;34m\u001b[0m\n\u001b[1;32m----> 1\u001b[1;33m \u001b[0mtestSet\u001b[0m \u001b[1;33m=\u001b[0m \u001b[0mtest\u001b[0m\u001b[1;33m.\u001b[0m\u001b[0mbuild_full_trainset\u001b[0m\u001b[1;33m(\u001b[0m\u001b[1;33m)\u001b[0m\u001b[1;33m\u001b[0m\u001b[1;33m\u001b[0m\u001b[0m\n\u001b[0m\u001b[0;32m      2\u001b[0m \u001b[1;31m#Test2.build_full_trainset()\u001b[0m\u001b[1;33m\u001b[0m\u001b[1;33m\u001b[0m\u001b[1;33m\u001b[0m\u001b[0m\n",
      "\u001b[1;32mC:\\Anaconda\\lib\\site-packages\\pandas\\core\\generic.py\u001b[0m in \u001b[0;36m__getattr__\u001b[1;34m(self, name)\u001b[0m\n\u001b[0;32m   5177\u001b[0m             \u001b[1;32mif\u001b[0m \u001b[0mself\u001b[0m\u001b[1;33m.\u001b[0m\u001b[0m_info_axis\u001b[0m\u001b[1;33m.\u001b[0m\u001b[0m_can_hold_identifiers_and_holds_name\u001b[0m\u001b[1;33m(\u001b[0m\u001b[0mname\u001b[0m\u001b[1;33m)\u001b[0m\u001b[1;33m:\u001b[0m\u001b[1;33m\u001b[0m\u001b[1;33m\u001b[0m\u001b[0m\n\u001b[0;32m   5178\u001b[0m                 \u001b[1;32mreturn\u001b[0m \u001b[0mself\u001b[0m\u001b[1;33m[\u001b[0m\u001b[0mname\u001b[0m\u001b[1;33m]\u001b[0m\u001b[1;33m\u001b[0m\u001b[1;33m\u001b[0m\u001b[0m\n\u001b[1;32m-> 5179\u001b[1;33m             \u001b[1;32mreturn\u001b[0m \u001b[0mobject\u001b[0m\u001b[1;33m.\u001b[0m\u001b[0m__getattribute__\u001b[0m\u001b[1;33m(\u001b[0m\u001b[0mself\u001b[0m\u001b[1;33m,\u001b[0m \u001b[0mname\u001b[0m\u001b[1;33m)\u001b[0m\u001b[1;33m\u001b[0m\u001b[1;33m\u001b[0m\u001b[0m\n\u001b[0m\u001b[0;32m   5180\u001b[0m \u001b[1;33m\u001b[0m\u001b[0m\n\u001b[0;32m   5181\u001b[0m     \u001b[1;32mdef\u001b[0m \u001b[0m__setattr__\u001b[0m\u001b[1;33m(\u001b[0m\u001b[0mself\u001b[0m\u001b[1;33m,\u001b[0m \u001b[0mname\u001b[0m\u001b[1;33m,\u001b[0m \u001b[0mvalue\u001b[0m\u001b[1;33m)\u001b[0m\u001b[1;33m:\u001b[0m\u001b[1;33m\u001b[0m\u001b[1;33m\u001b[0m\u001b[0m\n",
      "\u001b[1;31mAttributeError\u001b[0m: 'DataFrame' object has no attribute 'build_full_trainset'"
     ]
    }
   ],
   "source": [
    "testSet = test.build_full_trainset()\n",
    "#Test2.build_full_trainset()"
   ]
  },
  {
   "cell_type": "code",
   "execution_count": null,
   "metadata": {},
   "outputs": [],
   "source": [
    "predictions = knn.test(testSet)"
   ]
  },
  {
   "cell_type": "code",
   "execution_count": null,
   "metadata": {},
   "outputs": [],
   "source": []
  },
  {
   "cell_type": "markdown",
   "metadata": {},
   "source": [
    "# Обучение модели. LightFM без фич"
   ]
  },
  {
   "cell_type": "code",
   "execution_count": 150,
   "metadata": {},
   "outputs": [],
   "source": [
    "train_data, test_data = train_test_split(train,random_state=32, shuffle=True)"
   ]
  },
  {
   "cell_type": "code",
   "execution_count": 151,
   "metadata": {},
   "outputs": [],
   "source": [
    "ratings_coo = sparse.coo_matrix((train_data['rating'].astype(int),\n",
    "                                 (train_data['userid'],\n",
    "                                  train_data['itemid'])))"
   ]
  },
  {
   "cell_type": "code",
   "execution_count": 152,
   "metadata": {},
   "outputs": [],
   "source": [
    "NUM_THREADS = 4 #число потоков\n",
    "NUM_COMPONENTS = 30 #число параметров вектора \n",
    "NUM_EPOCHS = 20 #число эпох обучения\n",
    "\n",
    "model = LightFM(learning_rate=0.1, loss='logistic',\n",
    "                no_components=NUM_COMPONENTS)\n",
    "model = model.fit(ratings_coo, epochs=NUM_EPOCHS, \n",
    "                  num_threads=NUM_THREADS)"
   ]
  },
  {
   "cell_type": "code",
   "execution_count": 153,
   "metadata": {},
   "outputs": [],
   "source": [
    "preds = model.predict(test_data.userid.values,\n",
    "                      test_data.itemid.values)"
   ]
  },
  {
   "cell_type": "code",
   "execution_count": 154,
   "metadata": {},
   "outputs": [
    {
     "data": {
      "text/plain": [
       "0.7443547378594038"
      ]
     },
     "execution_count": 154,
     "metadata": {},
     "output_type": "execute_result"
    }
   ],
   "source": [
    "sklearn.metrics.roc_auc_score(test_data.rating,preds)"
   ]
  },
  {
   "cell_type": "code",
   "execution_count": 164,
   "metadata": {},
   "outputs": [],
   "source": [
    "predics = model.predict(test.userid.values,\n",
    "                      test.itemid.values)"
   ]
  },
  {
   "cell_type": "code",
   "execution_count": 165,
   "metadata": {},
   "outputs": [],
   "source": [
    "normalized_preds = (predics - predics.min())/(predics - predics.min()).max()"
   ]
  },
  {
   "cell_type": "code",
   "execution_count": 166,
   "metadata": {},
   "outputs": [],
   "source": [
    "sample_submission['rating']= normalized_preds\n"
   ]
  },
  {
   "cell_type": "code",
   "execution_count": 167,
   "metadata": {},
   "outputs": [],
   "source": [
    "sample_submission.to_csv('rec_submission_3.csv', index=False)"
   ]
  },
  {
   "cell_type": "code",
   "execution_count": 168,
   "metadata": {},
   "outputs": [
    {
     "data": {
      "text/plain": [
       "285965"
      ]
     },
     "execution_count": 168,
     "metadata": {},
     "output_type": "execute_result"
    }
   ],
   "source": []
  },
  {
   "cell_type": "markdown",
   "metadata": {},
   "source": [
    "# SVD"
   ]
  },
  {
   "cell_type": "code",
   "execution_count": 169,
   "metadata": {},
   "outputs": [],
   "source": [
    "user_sample = train.userid.sample(100000)\n",
    "item_sample = train.itemid.sample(50000)"
   ]
  },
  {
   "cell_type": "code",
   "execution_count": 170,
   "metadata": {},
   "outputs": [],
   "source": [
    "reader = Reader(rating_scale=(0.5, 5.0))\n",
    "data = Dataset.load_from_df(train[train.userid.isin(user_sample) &\n",
    "                              train.itemid.isin(item_sample)][['userid', 'itemid', 'overall']], reader)"
   ]
  },
  {
   "cell_type": "code",
   "execution_count": 171,
   "metadata": {},
   "outputs": [],
   "source": [
    "from surprise import SVD"
   ]
  },
  {
   "cell_type": "code",
   "execution_count": 172,
   "metadata": {},
   "outputs": [],
   "source": [
    "svd=SVD()\n",
    "trainingSet=data.build_full_trainset()"
   ]
  },
  {
   "cell_type": "code",
   "execution_count": 182,
   "metadata": {},
   "outputs": [
    {
     "ename": "ValueError",
     "evalue": "not enough values to unpack (expected 3, got 2)",
     "output_type": "error",
     "traceback": [
      "\u001b[1;31m---------------------------------------------------------------------------\u001b[0m",
      "\u001b[1;31mValueError\u001b[0m                                Traceback (most recent call last)",
      "\u001b[1;32m<ipython-input-182-d132788b1ca5>\u001b[0m in \u001b[0;36m<module>\u001b[1;34m\u001b[0m\n\u001b[0;32m      1\u001b[0m data_test = Dataset.load_from_df(test[test.userid.isin(user_sample) &\n\u001b[1;32m----> 2\u001b[1;33m                               test.itemid.isin(item_sample)][['userid', 'itemid']], reader)\n\u001b[0m",
      "\u001b[1;32mC:\\Anaconda\\lib\\site-packages\\surprise\\dataset.py\u001b[0m in \u001b[0;36mload_from_df\u001b[1;34m(cls, df, reader)\u001b[0m\n\u001b[0;32m    162\u001b[0m         \"\"\"\n\u001b[0;32m    163\u001b[0m \u001b[1;33m\u001b[0m\u001b[0m\n\u001b[1;32m--> 164\u001b[1;33m         \u001b[1;32mreturn\u001b[0m \u001b[0mDatasetAutoFolds\u001b[0m\u001b[1;33m(\u001b[0m\u001b[0mreader\u001b[0m\u001b[1;33m=\u001b[0m\u001b[0mreader\u001b[0m\u001b[1;33m,\u001b[0m \u001b[0mdf\u001b[0m\u001b[1;33m=\u001b[0m\u001b[0mdf\u001b[0m\u001b[1;33m)\u001b[0m\u001b[1;33m\u001b[0m\u001b[1;33m\u001b[0m\u001b[0m\n\u001b[0m\u001b[0;32m    165\u001b[0m \u001b[1;33m\u001b[0m\u001b[0m\n\u001b[0;32m    166\u001b[0m     \u001b[1;32mdef\u001b[0m \u001b[0mread_ratings\u001b[0m\u001b[1;33m(\u001b[0m\u001b[0mself\u001b[0m\u001b[1;33m,\u001b[0m \u001b[0mfile_name\u001b[0m\u001b[1;33m)\u001b[0m\u001b[1;33m:\u001b[0m\u001b[1;33m\u001b[0m\u001b[1;33m\u001b[0m\u001b[0m\n",
      "\u001b[1;32mC:\\Anaconda\\lib\\site-packages\\surprise\\dataset.py\u001b[0m in \u001b[0;36m__init__\u001b[1;34m(self, ratings_file, reader, df)\u001b[0m\n\u001b[0;32m    256\u001b[0m             self.raw_ratings = [(uid, iid, float(r), None)\n\u001b[0;32m    257\u001b[0m                                 \u001b[1;32mfor\u001b[0m \u001b[1;33m(\u001b[0m\u001b[0muid\u001b[0m\u001b[1;33m,\u001b[0m \u001b[0miid\u001b[0m\u001b[1;33m,\u001b[0m \u001b[0mr\u001b[0m\u001b[1;33m)\u001b[0m \u001b[1;32min\u001b[0m\u001b[1;33m\u001b[0m\u001b[1;33m\u001b[0m\u001b[0m\n\u001b[1;32m--> 258\u001b[1;33m                                 self.df.itertuples(index=False)]\n\u001b[0m\u001b[0;32m    259\u001b[0m         \u001b[1;32melse\u001b[0m\u001b[1;33m:\u001b[0m\u001b[1;33m\u001b[0m\u001b[1;33m\u001b[0m\u001b[0m\n\u001b[0;32m    260\u001b[0m             \u001b[1;32mraise\u001b[0m \u001b[0mValueError\u001b[0m\u001b[1;33m(\u001b[0m\u001b[1;34m'Must specify ratings file or dataframe.'\u001b[0m\u001b[1;33m)\u001b[0m\u001b[1;33m\u001b[0m\u001b[1;33m\u001b[0m\u001b[0m\n",
      "\u001b[1;32mC:\\Anaconda\\lib\\site-packages\\surprise\\dataset.py\u001b[0m in \u001b[0;36m<listcomp>\u001b[1;34m(.0)\u001b[0m\n\u001b[0;32m    254\u001b[0m         \u001b[1;32melif\u001b[0m \u001b[0mdf\u001b[0m \u001b[1;32mis\u001b[0m \u001b[1;32mnot\u001b[0m \u001b[1;32mNone\u001b[0m\u001b[1;33m:\u001b[0m\u001b[1;33m\u001b[0m\u001b[1;33m\u001b[0m\u001b[0m\n\u001b[0;32m    255\u001b[0m             \u001b[0mself\u001b[0m\u001b[1;33m.\u001b[0m\u001b[0mdf\u001b[0m \u001b[1;33m=\u001b[0m \u001b[0mdf\u001b[0m\u001b[1;33m\u001b[0m\u001b[1;33m\u001b[0m\u001b[0m\n\u001b[1;32m--> 256\u001b[1;33m             self.raw_ratings = [(uid, iid, float(r), None)\n\u001b[0m\u001b[0;32m    257\u001b[0m                                 \u001b[1;32mfor\u001b[0m \u001b[1;33m(\u001b[0m\u001b[0muid\u001b[0m\u001b[1;33m,\u001b[0m \u001b[0miid\u001b[0m\u001b[1;33m,\u001b[0m \u001b[0mr\u001b[0m\u001b[1;33m)\u001b[0m \u001b[1;32min\u001b[0m\u001b[1;33m\u001b[0m\u001b[1;33m\u001b[0m\u001b[0m\n\u001b[0;32m    258\u001b[0m                                 self.df.itertuples(index=False)]\n",
      "\u001b[1;31mValueError\u001b[0m: not enough values to unpack (expected 3, got 2)"
     ]
    }
   ],
   "source": [
    "data_test = Dataset.load_from_df(test[test.userid.isin(user_sample) &\n",
    "                              test.itemid.isin(item_sample)][['userid', 'itemid']], reader)"
   ]
  },
  {
   "cell_type": "code",
   "execution_count": 179,
   "metadata": {},
   "outputs": [
    {
     "data": {
      "text/plain": [
       "<surprise.prediction_algorithms.matrix_factorization.SVD at 0x2ac2a49fcc8>"
      ]
     },
     "execution_count": 179,
     "metadata": {},
     "output_type": "execute_result"
    }
   ],
   "source": [
    "svd.fit(trainingSet)"
   ]
  },
  {
   "cell_type": "code",
   "execution_count": 230,
   "metadata": {},
   "outputs": [
    {
     "ename": "AttributeError",
     "evalue": "'DataFrame' object has no attribute 'build_full_trainset'",
     "output_type": "error",
     "traceback": [
      "\u001b[1;31m---------------------------------------------------------------------------\u001b[0m",
      "\u001b[1;31mAttributeError\u001b[0m                            Traceback (most recent call last)",
      "\u001b[1;32m<ipython-input-230-b775c8a0d5a3>\u001b[0m in \u001b[0;36m<module>\u001b[1;34m\u001b[0m\n\u001b[1;32m----> 1\u001b[1;33m \u001b[0mtestSet\u001b[0m\u001b[1;33m=\u001b[0m\u001b[0mtest\u001b[0m\u001b[1;33m.\u001b[0m\u001b[0mbuild_full_trainset\u001b[0m\u001b[1;33m(\u001b[0m\u001b[1;33m)\u001b[0m\u001b[1;33m\u001b[0m\u001b[1;33m\u001b[0m\u001b[0m\n\u001b[0m",
      "\u001b[1;32mC:\\Anaconda\\lib\\site-packages\\pandas\\core\\generic.py\u001b[0m in \u001b[0;36m__getattr__\u001b[1;34m(self, name)\u001b[0m\n\u001b[0;32m   5177\u001b[0m             \u001b[1;32mif\u001b[0m \u001b[0mself\u001b[0m\u001b[1;33m.\u001b[0m\u001b[0m_info_axis\u001b[0m\u001b[1;33m.\u001b[0m\u001b[0m_can_hold_identifiers_and_holds_name\u001b[0m\u001b[1;33m(\u001b[0m\u001b[0mname\u001b[0m\u001b[1;33m)\u001b[0m\u001b[1;33m:\u001b[0m\u001b[1;33m\u001b[0m\u001b[1;33m\u001b[0m\u001b[0m\n\u001b[0;32m   5178\u001b[0m                 \u001b[1;32mreturn\u001b[0m \u001b[0mself\u001b[0m\u001b[1;33m[\u001b[0m\u001b[0mname\u001b[0m\u001b[1;33m]\u001b[0m\u001b[1;33m\u001b[0m\u001b[1;33m\u001b[0m\u001b[0m\n\u001b[1;32m-> 5179\u001b[1;33m             \u001b[1;32mreturn\u001b[0m \u001b[0mobject\u001b[0m\u001b[1;33m.\u001b[0m\u001b[0m__getattribute__\u001b[0m\u001b[1;33m(\u001b[0m\u001b[0mself\u001b[0m\u001b[1;33m,\u001b[0m \u001b[0mname\u001b[0m\u001b[1;33m)\u001b[0m\u001b[1;33m\u001b[0m\u001b[1;33m\u001b[0m\u001b[0m\n\u001b[0m\u001b[0;32m   5180\u001b[0m \u001b[1;33m\u001b[0m\u001b[0m\n\u001b[0;32m   5181\u001b[0m     \u001b[1;32mdef\u001b[0m \u001b[0m__setattr__\u001b[0m\u001b[1;33m(\u001b[0m\u001b[0mself\u001b[0m\u001b[1;33m,\u001b[0m \u001b[0mname\u001b[0m\u001b[1;33m,\u001b[0m \u001b[0mvalue\u001b[0m\u001b[1;33m)\u001b[0m\u001b[1;33m:\u001b[0m\u001b[1;33m\u001b[0m\u001b[1;33m\u001b[0m\u001b[0m\n",
      "\u001b[1;31mAttributeError\u001b[0m: 'DataFrame' object has no attribute 'build_full_trainset'"
     ]
    }
   ],
   "source": [
    "testSet=test.build_full_trainset()"
   ]
  },
  {
   "cell_type": "code",
   "execution_count": null,
   "metadata": {},
   "outputs": [],
   "source": [
    "predictions=svd.test(testSet)"
   ]
  },
  {
   "cell_type": "code",
   "execution_count": 177,
   "metadata": {},
   "outputs": [
    {
     "data": {
      "text/html": [
       "<div>\n",
       "<style scoped>\n",
       "    .dataframe tbody tr th:only-of-type {\n",
       "        vertical-align: middle;\n",
       "    }\n",
       "\n",
       "    .dataframe tbody tr th {\n",
       "        vertical-align: top;\n",
       "    }\n",
       "\n",
       "    .dataframe thead th {\n",
       "        text-align: right;\n",
       "    }\n",
       "</style>\n",
       "<table border=\"1\" class=\"dataframe\">\n",
       "  <thead>\n",
       "    <tr style=\"text-align: right;\">\n",
       "      <th></th>\n",
       "      <th>verified</th>\n",
       "      <th>reviewTime</th>\n",
       "      <th>asin</th>\n",
       "      <th>reviewerName</th>\n",
       "      <th>unixReviewTime</th>\n",
       "      <th>vote</th>\n",
       "      <th>style</th>\n",
       "      <th>image</th>\n",
       "      <th>userid</th>\n",
       "      <th>itemid</th>\n",
       "      <th>Id</th>\n",
       "    </tr>\n",
       "  </thead>\n",
       "  <tbody>\n",
       "    <tr>\n",
       "      <td>0</td>\n",
       "      <td>True</td>\n",
       "      <td>10 1, 2016</td>\n",
       "      <td>B001E5E3X0</td>\n",
       "      <td>Rudys Mom</td>\n",
       "      <td>1475280000</td>\n",
       "      <td>NaN</td>\n",
       "      <td>NaN</td>\n",
       "      <td>NaN</td>\n",
       "      <td>68877</td>\n",
       "      <td>7506</td>\n",
       "      <td>0</td>\n",
       "    </tr>\n",
       "    <tr>\n",
       "      <td>1</td>\n",
       "      <td>True</td>\n",
       "      <td>06 29, 2014</td>\n",
       "      <td>B005BYXX5E</td>\n",
       "      <td>pharg</td>\n",
       "      <td>1404000000</td>\n",
       "      <td>2</td>\n",
       "      <td>NaN</td>\n",
       "      <td>NaN</td>\n",
       "      <td>50442</td>\n",
       "      <td>15530</td>\n",
       "      <td>1</td>\n",
       "    </tr>\n",
       "    <tr>\n",
       "      <td>2</td>\n",
       "      <td>True</td>\n",
       "      <td>05 19, 2015</td>\n",
       "      <td>B0052OK6OO</td>\n",
       "      <td>dhalex</td>\n",
       "      <td>1431993600</td>\n",
       "      <td>NaN</td>\n",
       "      <td>NaN</td>\n",
       "      <td>NaN</td>\n",
       "      <td>64349</td>\n",
       "      <td>15049</td>\n",
       "      <td>2</td>\n",
       "    </tr>\n",
       "    <tr>\n",
       "      <td>3</td>\n",
       "      <td>True</td>\n",
       "      <td>10 5, 2014</td>\n",
       "      <td>B003SO8HGE</td>\n",
       "      <td>Vanessa</td>\n",
       "      <td>1412467200</td>\n",
       "      <td>NaN</td>\n",
       "      <td>{'Flavor:': ' Sweet Rose'}</td>\n",
       "      <td>NaN</td>\n",
       "      <td>26206</td>\n",
       "      <td>11957</td>\n",
       "      <td>3</td>\n",
       "    </tr>\n",
       "    <tr>\n",
       "      <td>4</td>\n",
       "      <td>True</td>\n",
       "      <td>11 11, 2013</td>\n",
       "      <td>B003XUJ564</td>\n",
       "      <td>R Mohrman</td>\n",
       "      <td>1384128000</td>\n",
       "      <td>3</td>\n",
       "      <td>{'Size:': ' 15 Ounce (Pack of 12)', 'Flavor:':...</td>\n",
       "      <td>NaN</td>\n",
       "      <td>59366</td>\n",
       "      <td>12173</td>\n",
       "      <td>4</td>\n",
       "    </tr>\n",
       "    <tr>\n",
       "      <td>...</td>\n",
       "      <td>...</td>\n",
       "      <td>...</td>\n",
       "      <td>...</td>\n",
       "      <td>...</td>\n",
       "      <td>...</td>\n",
       "      <td>...</td>\n",
       "      <td>...</td>\n",
       "      <td>...</td>\n",
       "      <td>...</td>\n",
       "      <td>...</td>\n",
       "      <td>...</td>\n",
       "    </tr>\n",
       "    <tr>\n",
       "      <td>285960</td>\n",
       "      <td>True</td>\n",
       "      <td>01 17, 2016</td>\n",
       "      <td>B00FLD3X28</td>\n",
       "      <td>A. Banks</td>\n",
       "      <td>1452988800</td>\n",
       "      <td>NaN</td>\n",
       "      <td>{'Size:': ' 1 Pound'}</td>\n",
       "      <td>NaN</td>\n",
       "      <td>294</td>\n",
       "      <td>25601</td>\n",
       "      <td>285960</td>\n",
       "    </tr>\n",
       "    <tr>\n",
       "      <td>285961</td>\n",
       "      <td>True</td>\n",
       "      <td>08 22, 2015</td>\n",
       "      <td>B0078DQ85S</td>\n",
       "      <td>HighEnergy</td>\n",
       "      <td>1440201600</td>\n",
       "      <td>NaN</td>\n",
       "      <td>{'Flavor:': ' Cinnamon &amp; Currant'}</td>\n",
       "      <td>NaN</td>\n",
       "      <td>119653</td>\n",
       "      <td>18204</td>\n",
       "      <td>285961</td>\n",
       "    </tr>\n",
       "    <tr>\n",
       "      <td>285962</td>\n",
       "      <td>True</td>\n",
       "      <td>09 21, 2017</td>\n",
       "      <td>B000FZVLFS</td>\n",
       "      <td>Sam Jackson</td>\n",
       "      <td>1505952000</td>\n",
       "      <td>NaN</td>\n",
       "      <td>{'Flavor:': ' Espresso Forte'}</td>\n",
       "      <td>NaN</td>\n",
       "      <td>54673</td>\n",
       "      <td>2287</td>\n",
       "      <td>285962</td>\n",
       "    </tr>\n",
       "    <tr>\n",
       "      <td>285963</td>\n",
       "      <td>True</td>\n",
       "      <td>03 27, 2018</td>\n",
       "      <td>B001PB801Y</td>\n",
       "      <td>Louis J. Dezseran Sr.</td>\n",
       "      <td>1522108800</td>\n",
       "      <td>NaN</td>\n",
       "      <td>{'Size:': ' 5lb'}</td>\n",
       "      <td>NaN</td>\n",
       "      <td>16569</td>\n",
       "      <td>9343</td>\n",
       "      <td>285963</td>\n",
       "    </tr>\n",
       "    <tr>\n",
       "      <td>285964</td>\n",
       "      <td>True</td>\n",
       "      <td>10 18, 2015</td>\n",
       "      <td>B008X6KE0E</td>\n",
       "      <td>JRG</td>\n",
       "      <td>1445126400</td>\n",
       "      <td>NaN</td>\n",
       "      <td>NaN</td>\n",
       "      <td>NaN</td>\n",
       "      <td>56489</td>\n",
       "      <td>19483</td>\n",
       "      <td>285964</td>\n",
       "    </tr>\n",
       "  </tbody>\n",
       "</table>\n",
       "<p>285965 rows × 11 columns</p>\n",
       "</div>"
      ],
      "text/plain": [
       "        verified   reviewTime        asin           reviewerName  \\\n",
       "0           True   10 1, 2016  B001E5E3X0              Rudys Mom   \n",
       "1           True  06 29, 2014  B005BYXX5E                  pharg   \n",
       "2           True  05 19, 2015  B0052OK6OO                 dhalex   \n",
       "3           True   10 5, 2014  B003SO8HGE                Vanessa   \n",
       "4           True  11 11, 2013  B003XUJ564              R Mohrman   \n",
       "...          ...          ...         ...                    ...   \n",
       "285960      True  01 17, 2016  B00FLD3X28               A. Banks   \n",
       "285961      True  08 22, 2015  B0078DQ85S             HighEnergy   \n",
       "285962      True  09 21, 2017  B000FZVLFS            Sam Jackson   \n",
       "285963      True  03 27, 2018  B001PB801Y  Louis J. Dezseran Sr.   \n",
       "285964      True  10 18, 2015  B008X6KE0E                    JRG   \n",
       "\n",
       "        unixReviewTime vote  \\\n",
       "0           1475280000  NaN   \n",
       "1           1404000000    2   \n",
       "2           1431993600  NaN   \n",
       "3           1412467200  NaN   \n",
       "4           1384128000    3   \n",
       "...                ...  ...   \n",
       "285960      1452988800  NaN   \n",
       "285961      1440201600  NaN   \n",
       "285962      1505952000  NaN   \n",
       "285963      1522108800  NaN   \n",
       "285964      1445126400  NaN   \n",
       "\n",
       "                                                    style image  userid  \\\n",
       "0                                                     NaN   NaN   68877   \n",
       "1                                                     NaN   NaN   50442   \n",
       "2                                                     NaN   NaN   64349   \n",
       "3                              {'Flavor:': ' Sweet Rose'}   NaN   26206   \n",
       "4       {'Size:': ' 15 Ounce (Pack of 12)', 'Flavor:':...   NaN   59366   \n",
       "...                                                   ...   ...     ...   \n",
       "285960                              {'Size:': ' 1 Pound'}   NaN     294   \n",
       "285961                 {'Flavor:': ' Cinnamon & Currant'}   NaN  119653   \n",
       "285962                     {'Flavor:': ' Espresso Forte'}   NaN   54673   \n",
       "285963                                  {'Size:': ' 5lb'}   NaN   16569   \n",
       "285964                                                NaN   NaN   56489   \n",
       "\n",
       "        itemid      Id  \n",
       "0         7506       0  \n",
       "1        15530       1  \n",
       "2        15049       2  \n",
       "3        11957       3  \n",
       "4        12173       4  \n",
       "...        ...     ...  \n",
       "285960   25601  285960  \n",
       "285961   18204  285961  \n",
       "285962    2287  285962  \n",
       "285963    9343  285963  \n",
       "285964   19483  285964  \n",
       "\n",
       "[285965 rows x 11 columns]"
      ]
     },
     "execution_count": 177,
     "metadata": {},
     "output_type": "execute_result"
    }
   ],
   "source": [
    "test"
   ]
  },
  {
   "cell_type": "code",
   "execution_count": null,
   "metadata": {},
   "outputs": [],
   "source": []
  },
  {
   "cell_type": "markdown",
   "metadata": {},
   "source": [
    "# LIGHTFM с фичами"
   ]
  },
  {
   "cell_type": "code",
   "execution_count": 212,
   "metadata": {},
   "outputs": [],
   "source": [
    "train2 = train.merge(meta, on='asin', how='left')"
   ]
  },
  {
   "cell_type": "code",
   "execution_count": 191,
   "metadata": {},
   "outputs": [
    {
     "data": {
      "text/html": [
       "<div>\n",
       "<style scoped>\n",
       "    .dataframe tbody tr th:only-of-type {\n",
       "        vertical-align: middle;\n",
       "    }\n",
       "\n",
       "    .dataframe tbody tr th {\n",
       "        vertical-align: top;\n",
       "    }\n",
       "\n",
       "    .dataframe thead th {\n",
       "        text-align: right;\n",
       "    }\n",
       "</style>\n",
       "<table border=\"1\" class=\"dataframe\">\n",
       "  <thead>\n",
       "    <tr style=\"text-align: right;\">\n",
       "      <th></th>\n",
       "      <th>overall</th>\n",
       "      <th>verified</th>\n",
       "      <th>asin</th>\n",
       "      <th>reviewerName</th>\n",
       "      <th>reviewText</th>\n",
       "      <th>summary</th>\n",
       "      <th>unixReviewTime</th>\n",
       "      <th>userid</th>\n",
       "      <th>itemid</th>\n",
       "      <th>rating</th>\n",
       "      <th>...</th>\n",
       "      <th>main_cat</th>\n",
       "      <th>price</th>\n",
       "      <th>also_buy</th>\n",
       "      <th>image</th>\n",
       "      <th>date</th>\n",
       "      <th>feature</th>\n",
       "      <th>details</th>\n",
       "      <th>similar_item</th>\n",
       "      <th>tech1</th>\n",
       "      <th>fit</th>\n",
       "    </tr>\n",
       "  </thead>\n",
       "  <tbody>\n",
       "    <tr>\n",
       "      <td>0</td>\n",
       "      <td>5.0</td>\n",
       "      <td>True</td>\n",
       "      <td>B01CPNIEQG</td>\n",
       "      <td>Heather</td>\n",
       "      <td>These are my FAVORITE spices in my collection....</td>\n",
       "      <td>Must Add to your Spice kitchen!</td>\n",
       "      <td>1475539200</td>\n",
       "      <td>102179</td>\n",
       "      <td>37138</td>\n",
       "      <td>1.0</td>\n",
       "      <td>...</td>\n",
       "      <td>Grocery</td>\n",
       "      <td>$9.95</td>\n",
       "      <td>['B01DGZ2B48', 'B01EZ489AO', 'B01DH795LM', 'B0...</td>\n",
       "      <td>['https://images-na.ssl-images-amazon.com/imag...</td>\n",
       "      <td>NaN</td>\n",
       "      <td>NaN</td>\n",
       "      <td>\\n      &lt;div class=\"content\"&gt;\\n\\n\\n\\n\\n\\n\\n&lt;ul...</td>\n",
       "      <td>NaN</td>\n",
       "      <td>NaN</td>\n",
       "      <td>NaN</td>\n",
       "    </tr>\n",
       "    <tr>\n",
       "      <td>1</td>\n",
       "      <td>5.0</td>\n",
       "      <td>True</td>\n",
       "      <td>B006F63M8U</td>\n",
       "      <td>Linda Odom</td>\n",
       "      <td>Add A package to my Coffee and it makes a good...</td>\n",
       "      <td>Milk Chocolate Swiis MIss Hot Cocoa Mix</td>\n",
       "      <td>1456790400</td>\n",
       "      <td>3625</td>\n",
       "      <td>17322</td>\n",
       "      <td>1.0</td>\n",
       "      <td>...</td>\n",
       "      <td>Grocery</td>\n",
       "      <td>$18.49</td>\n",
       "      <td>['B001FBKO4U', 'B00BJ9URYA', 'B00451ZJB0', 'B0...</td>\n",
       "      <td>['https://images-na.ssl-images-amazon.com/imag...</td>\n",
       "      <td>NaN</td>\n",
       "      <td>NaN</td>\n",
       "      <td>\\n\\n\\n\\n\\n\\n    &lt;div class=\"disclaim\"&gt;Size: &lt;s...</td>\n",
       "      <td>NaN</td>\n",
       "      <td>NaN</td>\n",
       "      <td>NaN</td>\n",
       "    </tr>\n",
       "    <tr>\n",
       "      <td>2</td>\n",
       "      <td>5.0</td>\n",
       "      <td>True</td>\n",
       "      <td>B00112O8NG</td>\n",
       "      <td>DesertBlossom</td>\n",
       "      <td>I love the Torani syrups, but not the prices o...</td>\n",
       "      <td>Love these sugar free syrups, but didn't love ...</td>\n",
       "      <td>1466899200</td>\n",
       "      <td>39495</td>\n",
       "      <td>5600</td>\n",
       "      <td>1.0</td>\n",
       "      <td>...</td>\n",
       "      <td>Grocery</td>\n",
       "      <td>NaN</td>\n",
       "      <td>['B000T9WLUY', 'B01K23RF7U', 'B0015GSBUY', 'B0...</td>\n",
       "      <td>['https://images-na.ssl-images-amazon.com/imag...</td>\n",
       "      <td>NaN</td>\n",
       "      <td>NaN</td>\n",
       "      <td>\\n      &lt;div class=\"content\"&gt;\\n\\n\\n\\n\\n\\n\\n&lt;ul...</td>\n",
       "      <td>NaN</td>\n",
       "      <td>NaN</td>\n",
       "      <td>NaN</td>\n",
       "    </tr>\n",
       "    <tr>\n",
       "      <td>3</td>\n",
       "      <td>5.0</td>\n",
       "      <td>True</td>\n",
       "      <td>B00MRAQUM8</td>\n",
       "      <td>Connie L. Reaves</td>\n",
       "      <td>Very fragrant. The price can't be beat. I do l...</td>\n",
       "      <td>Nice !</td>\n",
       "      <td>1378339200</td>\n",
       "      <td>72854</td>\n",
       "      <td>30249</td>\n",
       "      <td>1.0</td>\n",
       "      <td>...</td>\n",
       "      <td>Grocery</td>\n",
       "      <td>$44.95</td>\n",
       "      <td>['B00416T7E4', 'B0001M11DC', 'B001VNO1NM', 'B0...</td>\n",
       "      <td>['https://images-na.ssl-images-amazon.com/imag...</td>\n",
       "      <td>NaN</td>\n",
       "      <td>NaN</td>\n",
       "      <td>\\n\\n\\n\\n\\n\\n    &lt;div class=\"disclaim\"&gt;Pattern ...</td>\n",
       "      <td>NaN</td>\n",
       "      <td>NaN</td>\n",
       "      <td>NaN</td>\n",
       "    </tr>\n",
       "    <tr>\n",
       "      <td>4</td>\n",
       "      <td>5.0</td>\n",
       "      <td>True</td>\n",
       "      <td>B000R7RN0G</td>\n",
       "      <td>Mike P.</td>\n",
       "      <td>These are my favorite jalapeno chips so far. T...</td>\n",
       "      <td>These are my favorite jalapeno chips so far</td>\n",
       "      <td>1473811200</td>\n",
       "      <td>74859</td>\n",
       "      <td>4349</td>\n",
       "      <td>1.0</td>\n",
       "      <td>...</td>\n",
       "      <td>Grocery</td>\n",
       "      <td>NaN</td>\n",
       "      <td>['B000R7XBF2', 'B000HIFA8W', 'B000R7RODW', 'B0...</td>\n",
       "      <td>['https://images-na.ssl-images-amazon.com/imag...</td>\n",
       "      <td>NaN</td>\n",
       "      <td>[\"64 count of MISS VICKIE'S Kettle Cooked Jala...</td>\n",
       "      <td>\\n\\n\\n\\n\\n\\n    &lt;div class=\"disclaim\"&gt;Flavor: ...</td>\n",
       "      <td>NaN</td>\n",
       "      <td>NaN</td>\n",
       "      <td>NaN</td>\n",
       "    </tr>\n",
       "  </tbody>\n",
       "</table>\n",
       "<p>5 rows × 28 columns</p>\n",
       "</div>"
      ],
      "text/plain": [
       "   overall  verified        asin      reviewerName  \\\n",
       "0      5.0      True  B01CPNIEQG           Heather   \n",
       "1      5.0      True  B006F63M8U        Linda Odom   \n",
       "2      5.0      True  B00112O8NG     DesertBlossom   \n",
       "3      5.0      True  B00MRAQUM8  Connie L. Reaves   \n",
       "4      5.0      True  B000R7RN0G           Mike P.   \n",
       "\n",
       "                                          reviewText  \\\n",
       "0  These are my FAVORITE spices in my collection....   \n",
       "1  Add A package to my Coffee and it makes a good...   \n",
       "2  I love the Torani syrups, but not the prices o...   \n",
       "3  Very fragrant. The price can't be beat. I do l...   \n",
       "4  These are my favorite jalapeno chips so far. T...   \n",
       "\n",
       "                                             summary  unixReviewTime  userid  \\\n",
       "0                    Must Add to your Spice kitchen!      1475539200  102179   \n",
       "1            Milk Chocolate Swiis MIss Hot Cocoa Mix      1456790400    3625   \n",
       "2  Love these sugar free syrups, but didn't love ...      1466899200   39495   \n",
       "3                                             Nice !      1378339200   72854   \n",
       "4        These are my favorite jalapeno chips so far      1473811200   74859   \n",
       "\n",
       "   itemid  rating  ...  main_cat   price  \\\n",
       "0   37138     1.0  ...   Grocery   $9.95   \n",
       "1   17322     1.0  ...   Grocery  $18.49   \n",
       "2    5600     1.0  ...   Grocery     NaN   \n",
       "3   30249     1.0  ...   Grocery  $44.95   \n",
       "4    4349     1.0  ...   Grocery     NaN   \n",
       "\n",
       "                                            also_buy  \\\n",
       "0  ['B01DGZ2B48', 'B01EZ489AO', 'B01DH795LM', 'B0...   \n",
       "1  ['B001FBKO4U', 'B00BJ9URYA', 'B00451ZJB0', 'B0...   \n",
       "2  ['B000T9WLUY', 'B01K23RF7U', 'B0015GSBUY', 'B0...   \n",
       "3  ['B00416T7E4', 'B0001M11DC', 'B001VNO1NM', 'B0...   \n",
       "4  ['B000R7XBF2', 'B000HIFA8W', 'B000R7RODW', 'B0...   \n",
       "\n",
       "                                               image date  \\\n",
       "0  ['https://images-na.ssl-images-amazon.com/imag...  NaN   \n",
       "1  ['https://images-na.ssl-images-amazon.com/imag...  NaN   \n",
       "2  ['https://images-na.ssl-images-amazon.com/imag...  NaN   \n",
       "3  ['https://images-na.ssl-images-amazon.com/imag...  NaN   \n",
       "4  ['https://images-na.ssl-images-amazon.com/imag...  NaN   \n",
       "\n",
       "                                             feature  \\\n",
       "0                                                NaN   \n",
       "1                                                NaN   \n",
       "2                                                NaN   \n",
       "3                                                NaN   \n",
       "4  [\"64 count of MISS VICKIE'S Kettle Cooked Jala...   \n",
       "\n",
       "                                             details similar_item tech1  fit  \n",
       "0  \\n      <div class=\"content\">\\n\\n\\n\\n\\n\\n\\n<ul...          NaN   NaN  NaN  \n",
       "1  \\n\\n\\n\\n\\n\\n    <div class=\"disclaim\">Size: <s...          NaN   NaN  NaN  \n",
       "2  \\n      <div class=\"content\">\\n\\n\\n\\n\\n\\n\\n<ul...          NaN   NaN  NaN  \n",
       "3  \\n\\n\\n\\n\\n\\n    <div class=\"disclaim\">Pattern ...          NaN   NaN  NaN  \n",
       "4  \\n\\n\\n\\n\\n\\n    <div class=\"disclaim\">Flavor: ...          NaN   NaN  NaN  \n",
       "\n",
       "[5 rows x 28 columns]"
      ]
     },
     "execution_count": 191,
     "metadata": {},
     "output_type": "execute_result"
    }
   ],
   "source": [
    "train2[:5]"
   ]
  },
  {
   "cell_type": "code",
   "execution_count": 194,
   "metadata": {},
   "outputs": [
    {
     "data": {
      "text/plain": [
       "overall              0.000000\n",
       "verified             0.000000\n",
       "asin                 0.000000\n",
       "reviewerName         0.020535\n",
       "reviewText           0.032285\n",
       "summary              0.019508\n",
       "unixReviewTime       0.000000\n",
       "userid               0.000000\n",
       "itemid               0.000000\n",
       "rating               0.000000\n",
       "norm_ReviewTime      0.000000\n",
       "Unnamed: 0           0.000000\n",
       "category             0.000000\n",
       "description          8.294003\n",
       "title                0.000000\n",
       "brand                0.716436\n",
       "rank                 4.267016\n",
       "also_view           44.381851\n",
       "main_cat             0.110089\n",
       "price               30.618748\n",
       "also_buy            14.117785\n",
       "image               10.804382\n",
       "date                98.527313\n",
       "feature             83.124278\n",
       "details              1.768958\n",
       "similar_item        99.863786\n",
       "tech1               99.474195\n",
       "fit                100.000000\n",
       "dtype: float64"
      ]
     },
     "execution_count": 194,
     "metadata": {},
     "output_type": "execute_result"
    }
   ],
   "source": [
    "train2.isnull().sum()/876561*100"
   ]
  },
  {
   "cell_type": "code",
   "execution_count": 193,
   "metadata": {},
   "outputs": [
    {
     "name": "stdout",
     "output_type": "stream",
     "text": [
      "<class 'pandas.core.frame.DataFrame'>\n",
      "Int64Index: 876561 entries, 0 to 876560\n",
      "Data columns (total 28 columns):\n",
      "overall            876561 non-null float64\n",
      "verified           876561 non-null bool\n",
      "asin               876561 non-null object\n",
      "reviewerName       876381 non-null object\n",
      "reviewText         876278 non-null object\n",
      "summary            876390 non-null object\n",
      "unixReviewTime     876561 non-null int64\n",
      "userid             876561 non-null int64\n",
      "itemid             876561 non-null int64\n",
      "rating             876561 non-null float64\n",
      "norm_ReviewTime    876561 non-null float64\n",
      "Unnamed: 0         876561 non-null int64\n",
      "category           876561 non-null object\n",
      "description        803859 non-null object\n",
      "title              876561 non-null object\n",
      "brand              870281 non-null object\n",
      "rank               839158 non-null object\n",
      "also_view          487527 non-null object\n",
      "main_cat           875596 non-null object\n",
      "price              608169 non-null object\n",
      "also_buy           752810 non-null object\n",
      "image              781854 non-null object\n",
      "date               12909 non-null object\n",
      "feature            147926 non-null object\n",
      "details            861055 non-null object\n",
      "similar_item       1194 non-null object\n",
      "tech1              4609 non-null object\n",
      "fit                0 non-null object\n",
      "dtypes: bool(1), float64(3), int64(4), object(20)\n",
      "memory usage: 188.1+ MB\n"
     ]
    }
   ],
   "source": [
    "train2.info()"
   ]
  },
  {
   "cell_type": "code",
   "execution_count": 213,
   "metadata": {},
   "outputs": [],
   "source": [
    "ratings_coo = sparse.coo_matrix((train2.overall,(train2.userid,train2.itemid)))\n"
   ]
  },
  {
   "cell_type": "code",
   "execution_count": 214,
   "metadata": {},
   "outputs": [],
   "source": [
    "feature_ratings  = sparse.coo_matrix(([1]*len(train2),(train2.userid,train2.itemid)))"
   ]
  },
  {
   "cell_type": "code",
   "execution_count": 13,
   "metadata": {},
   "outputs": [],
   "source": []
  },
  {
   "cell_type": "code",
   "execution_count": 215,
   "metadata": {},
   "outputs": [],
   "source": [
    "#число потоков нашего процессора\n",
    "NUM_THREADS = 8\n",
    "\n",
    "#число параметров вектора \n",
    "NUM_COMPONENTS = 20 \n",
    "\n",
    "#число эпох обучения\n",
    "NUM_EPOCHS = 6 "
   ]
  },
  {
   "cell_type": "code",
   "execution_count": 216,
   "metadata": {},
   "outputs": [],
   "source": [
    "#Создаём модель\n",
    "model = LightFM(learning_rate=0.05, loss='warp', no_components=NUM_COMPONENTS)\n"
   ]
  },
  {
   "cell_type": "code",
   "execution_count": 217,
   "metadata": {},
   "outputs": [],
   "source": [
    " \n",
    "#Разбиваем наш датасет на обучающую и тестовую выборки\n",
    "trainy,testy = random_train_test_split(ratings_coo, test_percentage=0.2, random_state=None)\n"
   ]
  },
  {
   "cell_type": "code",
   "execution_count": 218,
   "metadata": {},
   "outputs": [],
   "source": [
    "#Обучаем модель\n",
    "model = model.fit(trainy, epochs=NUM_EPOCHS, num_threads=NUM_THREADS,item_features =feature_ratings)"
   ]
  },
  {
   "cell_type": "code",
   "execution_count": 224,
   "metadata": {},
   "outputs": [],
   "source": [
    "predis = model.predict(test.userid.values,\n",
    "                      test.itemid.values)"
   ]
  },
  {
   "cell_type": "code",
   "execution_count": null,
   "metadata": {},
   "outputs": [],
   "source": [
    "#Тестируем нашу модель\n",
    "prec_score = precision_at_k(\n",
    "                     model,\n",
    "                     testy,\n",
    "                     num_threads=NUM_THREADS,\n",
    "                     k=10,\n",
    "                     item_features=feature_ratings).mean()\n",
    " \n",
    "recall_at_k = recall_at_k(model,\n",
    "                     testy,\n",
    "                     num_threads=NUM_THREADS,\n",
    "                     k=10,\n",
    "                     item_features=feature_ratings).mean()\n",
    "\n",
    "print(recall_at_k,prec_score)"
   ]
  },
  {
   "cell_type": "code",
   "execution_count": 225,
   "metadata": {},
   "outputs": [
    {
     "data": {
      "text/plain": [
       "array([-2.4572134 , -0.98236775, -0.80843627, ..., -0.60443133,\n",
       "       -2.24427032, -1.07646894])"
      ]
     },
     "execution_count": 225,
     "metadata": {},
     "output_type": "execute_result"
    }
   ],
   "source": [
    "predis"
   ]
  },
  {
   "cell_type": "code",
   "execution_count": 226,
   "metadata": {},
   "outputs": [],
   "source": [
    "normalized_preds = (predis - predis.min())/(predis - predis.min()).max()"
   ]
  },
  {
   "cell_type": "code",
   "execution_count": 228,
   "metadata": {},
   "outputs": [],
   "source": [
    "sample_submission['rating']= normalized_preds"
   ]
  },
  {
   "cell_type": "code",
   "execution_count": 229,
   "metadata": {},
   "outputs": [],
   "source": [
    "sample_submission.to_csv('rec_submission_4.csv', index=False)"
   ]
  },
  {
   "cell_type": "code",
   "execution_count": 227,
   "metadata": {},
   "outputs": [
    {
     "ename": "NameError",
     "evalue": "name 'precision_score' is not defined",
     "output_type": "error",
     "traceback": [
      "\u001b[1;31m---------------------------------------------------------------------------\u001b[0m",
      "\u001b[1;31mNameError\u001b[0m                                 Traceback (most recent call last)",
      "\u001b[1;32m<ipython-input-227-ce95a421f09a>\u001b[0m in \u001b[0;36m<module>\u001b[1;34m\u001b[0m\n\u001b[1;32m----> 1\u001b[1;33m \u001b[0mprint\u001b[0m \u001b[1;33m(\u001b[0m\u001b[0mprecision_score\u001b[0m\u001b[1;33m(\u001b[0m\u001b[0my_true\u001b[0m\u001b[1;33m,\u001b[0m \u001b[0my_pred\u001b[0m\u001b[1;33m,\u001b[0m \u001b[0maverage\u001b[0m\u001b[1;33m=\u001b[0m\u001b[1;34m'macro'\u001b[0m\u001b[1;33m)\u001b[0m\u001b[1;33m)\u001b[0m\u001b[1;33m\u001b[0m\u001b[1;33m\u001b[0m\u001b[0m\n\u001b[0m\u001b[0;32m      2\u001b[0m \u001b[1;33m\u001b[0m\u001b[0m\n\u001b[0;32m      3\u001b[0m \u001b[0mprint\u001b[0m \u001b[1;33m(\u001b[0m\u001b[0mprecision_score\u001b[0m\u001b[1;33m(\u001b[0m\u001b[0my_true\u001b[0m\u001b[1;33m,\u001b[0m \u001b[0my_pred\u001b[0m\u001b[1;33m,\u001b[0m \u001b[0maverage\u001b[0m\u001b[1;33m=\u001b[0m\u001b[1;34m'micro'\u001b[0m\u001b[1;33m)\u001b[0m\u001b[1;33m)\u001b[0m\u001b[1;33m\u001b[0m\u001b[1;33m\u001b[0m\u001b[0m\n\u001b[0;32m      4\u001b[0m \u001b[1;33m\u001b[0m\u001b[0m\n\u001b[0;32m      5\u001b[0m \u001b[0mprint\u001b[0m \u001b[1;33m(\u001b[0m\u001b[0mprecision_score\u001b[0m\u001b[1;33m(\u001b[0m\u001b[0my_true\u001b[0m\u001b[1;33m,\u001b[0m \u001b[0my_pred\u001b[0m\u001b[1;33m,\u001b[0m \u001b[0maverage\u001b[0m\u001b[1;33m=\u001b[0m\u001b[1;34m'weighted'\u001b[0m\u001b[1;33m)\u001b[0m\u001b[1;33m)\u001b[0m\u001b[1;33m\u001b[0m\u001b[1;33m\u001b[0m\u001b[0m\n",
      "\u001b[1;31mNameError\u001b[0m: name 'precision_score' is not defined"
     ]
    }
   ],
   "source": [
    "print (precision_score(y_true, y_pred, average='macro'))\n",
    "\n",
    "print (precision_score(y_true, y_pred, average='micro'))\n",
    "\n",
    "print (precision_score(y_true, y_pred, average='weighted'))"
   ]
  },
  {
   "cell_type": "markdown",
   "metadata": {},
   "source": [
    "# Улучшаем модель"
   ]
  },
  {
   "cell_type": "code",
   "execution_count": null,
   "metadata": {},
   "outputs": [],
   "source": [
    "# Достаём эбмеддинги\n",
    "\n",
    "item_biases, item_embeddings = model.get_item_representations(features=feature_ratings)"
   ]
  },
  {
   "cell_type": "code",
   "execution_count": null,
   "metadata": {},
   "outputs": [],
   "source": [
    "import nmslib\n",
    " \n",
    "#Создаём наш граф для поиска\n",
    "nms_idx = nmslib.init(method='hnsw', space='cosinesimil')\n",
    " \n",
    "#Начинаем добавлять наши книги в граф\n",
    "nms_idx.addDataPointBatch(item_embeddings)\n",
    "nms_idx.createIndex(print_progress=True)"
   ]
  },
  {
   "cell_type": "code",
   "execution_count": null,
   "metadata": {},
   "outputs": [],
   "source": [
    "#Вспомогательная функция для поиска по графу\n",
    "def nearest_books_nms(book_id, index, n=10):\n",
    "    nn = index.knnQuery(item_embeddings[book_id], k=n)\n",
    "    return nn"
   ]
  },
  {
   "cell_type": "code",
   "execution_count": null,
   "metadata": {},
   "outputs": [],
   "source": [
    "books[books.original_title.str.find('1984')>=0].head(2)"
   ]
  },
  {
   "cell_type": "code",
   "execution_count": null,
   "metadata": {},
   "outputs": [],
   "source": [
    "nbm = nearest_books_nms(846,nms_idx)[0]"
   ]
  },
  {
   "cell_type": "code",
   "execution_count": null,
   "metadata": {},
   "outputs": [],
   "source": [
    "books[books.book_id.isin(nbm)]"
   ]
  },
  {
   "cell_type": "code",
   "execution_count": null,
   "metadata": {},
   "outputs": [],
   "source": []
  },
  {
   "cell_type": "code",
   "execution_count": null,
   "metadata": {},
   "outputs": [],
   "source": []
  },
  {
   "cell_type": "markdown",
   "metadata": {},
   "source": [
    "# другой вариант LIGHTGBM"
   ]
  },
  {
   "cell_type": "code",
   "execution_count": 112,
   "metadata": {},
   "outputs": [],
   "source": [
    "train_data, test_data = train_test_split(train,random_state=32, shuffle=True)"
   ]
  },
  {
   "cell_type": "code",
   "execution_count": null,
   "metadata": {},
   "outputs": [],
   "source": []
  },
  {
   "cell_type": "code",
   "execution_count": 113,
   "metadata": {},
   "outputs": [],
   "source": [
    "train_data_GB = pd.DataFrame({\n",
    "    'userid': train['userid'],\n",
    "    'itemid': train['itemid'],\n",
    "    'rating': train['overall']\n",
    "})\n",
    "\n",
    "test_data_GB = pd.DataFrame({\n",
    "    'userid': test['userid'],\n",
    "    'itemid': test['itemid'],\n",
    "})"
   ]
  },
  {
   "cell_type": "code",
   "execution_count": 114,
   "metadata": {},
   "outputs": [],
   "source": [
    "train_data_GB_train, test_data_GB_test = train_test_split(train_data_GB,random_state=13, shuffle=True)"
   ]
  },
  {
   "cell_type": "code",
   "execution_count": 115,
   "metadata": {},
   "outputs": [],
   "source": [
    "y_train = train_data_GB_train['rating']\n",
    "y_test = test_data_GB_test['rating']\n",
    "X_train = train_data_GB_train.drop('rating', axis=1)\n",
    "X_test = test_data_GB_test.drop('rating', axis=1)"
   ]
  },
  {
   "cell_type": "code",
   "execution_count": 127,
   "metadata": {},
   "outputs": [
    {
     "name": "stdout",
     "output_type": "stream",
     "text": [
      "Starting training...\n"
     ]
    }
   ],
   "source": [
    "lgb_train = lgb.Dataset(X_train, y_train)\n",
    "lgb_eval = lgb.Dataset(X_test, y_test, reference=lgb_train)\n",
    "\n",
    "# specify your configurations as a dict\n",
    "params = {\n",
    "    'boosting_type': 'gbdt',\n",
    "   # 'objective': 'binary',\n",
    "   # 'metric': {'l2', 'l1'},\n",
    "    'num_leaves': 4,\n",
    "    'learning_rate': 0.1,\n",
    "    'metric': 'binary_logloss',\n",
    "    'feature_fraction': 0.1,\n",
    "    'bagging_fraction': 0.8,\n",
    "    'bagging_freq': 5,\n",
    "    'verbose': 0\n",
    "}\n",
    "\n",
    "print('Starting training...')"
   ]
  },
  {
   "cell_type": "code",
   "execution_count": 128,
   "metadata": {},
   "outputs": [
    {
     "name": "stdout",
     "output_type": "stream",
     "text": [
      "[1]\tvalid_0's binary_logloss: -1.49098\n",
      "Training until validation scores don't improve for 10 rounds\n",
      "[2]\tvalid_0's binary_logloss: -1.49098\n",
      "[3]\tvalid_0's binary_logloss: -1.49098\n",
      "[4]\tvalid_0's binary_logloss: -1.49098\n",
      "[5]\tvalid_0's binary_logloss: -1.49097\n",
      "[6]\tvalid_0's binary_logloss: -1.49096\n",
      "[7]\tvalid_0's binary_logloss: -1.49094\n",
      "[8]\tvalid_0's binary_logloss: -1.49093\n",
      "[9]\tvalid_0's binary_logloss: -1.49092\n",
      "[10]\tvalid_0's binary_logloss: -1.49091\n",
      "[11]\tvalid_0's binary_logloss: -1.49092\n",
      "Early stopping, best iteration is:\n",
      "[1]\tvalid_0's binary_logloss: -1.49098\n",
      "Starting predicting...\n"
     ]
    }
   ],
   "source": [
    "# train\n",
    "gbm = lgb.train(params,\n",
    "                lgb_train,\n",
    "                num_boost_round=20,\n",
    "                valid_sets=lgb_eval,\n",
    "                early_stopping_rounds=10)\n",
    "print('Starting predicting...')\n"
   ]
  },
  {
   "cell_type": "code",
   "execution_count": 129,
   "metadata": {},
   "outputs": [
    {
     "data": {
      "text/plain": [
       "array([4.44852207, 4.44074386, 4.44331867, ..., 4.44074386, 4.44074386,\n",
       "       4.43580009])"
      ]
     },
     "execution_count": 129,
     "metadata": {},
     "output_type": "execute_result"
    }
   ],
   "source": [
    "# predict\n",
    "y_pred = gbm.predict(X_test, num_iteration=gbm.best_iteration)\n",
    "y_pred"
   ]
  },
  {
   "cell_type": "code",
   "execution_count": 130,
   "metadata": {},
   "outputs": [
    {
     "ename": "ValueError",
     "evalue": "multiclass format is not supported",
     "output_type": "error",
     "traceback": [
      "\u001b[1;31m---------------------------------------------------------------------------\u001b[0m",
      "\u001b[1;31mValueError\u001b[0m                                Traceback (most recent call last)",
      "\u001b[1;32m<ipython-input-130-fbdaeb1becb6>\u001b[0m in \u001b[0;36m<module>\u001b[1;34m\u001b[0m\n\u001b[0;32m      1\u001b[0m \u001b[1;31m# eval\u001b[0m\u001b[1;33m\u001b[0m\u001b[1;33m\u001b[0m\u001b[1;33m\u001b[0m\u001b[0m\n\u001b[1;32m----> 2\u001b[1;33m \u001b[0mprint\u001b[0m\u001b[1;33m(\u001b[0m\u001b[1;34m'The rmse of prediction is:'\u001b[0m\u001b[1;33m,\u001b[0m \u001b[0msklearn\u001b[0m\u001b[1;33m.\u001b[0m\u001b[0mmetrics\u001b[0m\u001b[1;33m.\u001b[0m\u001b[0mroc_auc_score\u001b[0m\u001b[1;33m(\u001b[0m\u001b[0my_test\u001b[0m\u001b[1;33m,\u001b[0m \u001b[0my_pred\u001b[0m\u001b[1;33m)\u001b[0m\u001b[1;33m)\u001b[0m\u001b[1;33m\u001b[0m\u001b[1;33m\u001b[0m\u001b[0m\n\u001b[0m",
      "\u001b[1;32mC:\\Anaconda\\lib\\site-packages\\sklearn\\metrics\\ranking.py\u001b[0m in \u001b[0;36mroc_auc_score\u001b[1;34m(y_true, y_score, average, sample_weight, max_fpr)\u001b[0m\n\u001b[0;32m    353\u001b[0m     return _average_binary_score(\n\u001b[0;32m    354\u001b[0m         \u001b[0m_binary_roc_auc_score\u001b[0m\u001b[1;33m,\u001b[0m \u001b[0my_true\u001b[0m\u001b[1;33m,\u001b[0m \u001b[0my_score\u001b[0m\u001b[1;33m,\u001b[0m \u001b[0maverage\u001b[0m\u001b[1;33m,\u001b[0m\u001b[1;33m\u001b[0m\u001b[1;33m\u001b[0m\u001b[0m\n\u001b[1;32m--> 355\u001b[1;33m         sample_weight=sample_weight)\n\u001b[0m\u001b[0;32m    356\u001b[0m \u001b[1;33m\u001b[0m\u001b[0m\n\u001b[0;32m    357\u001b[0m \u001b[1;33m\u001b[0m\u001b[0m\n",
      "\u001b[1;32mC:\\Anaconda\\lib\\site-packages\\sklearn\\metrics\\base.py\u001b[0m in \u001b[0;36m_average_binary_score\u001b[1;34m(binary_metric, y_true, y_score, average, sample_weight)\u001b[0m\n\u001b[0;32m     71\u001b[0m     \u001b[0my_type\u001b[0m \u001b[1;33m=\u001b[0m \u001b[0mtype_of_target\u001b[0m\u001b[1;33m(\u001b[0m\u001b[0my_true\u001b[0m\u001b[1;33m)\u001b[0m\u001b[1;33m\u001b[0m\u001b[1;33m\u001b[0m\u001b[0m\n\u001b[0;32m     72\u001b[0m     \u001b[1;32mif\u001b[0m \u001b[0my_type\u001b[0m \u001b[1;32mnot\u001b[0m \u001b[1;32min\u001b[0m \u001b[1;33m(\u001b[0m\u001b[1;34m\"binary\"\u001b[0m\u001b[1;33m,\u001b[0m \u001b[1;34m\"multilabel-indicator\"\u001b[0m\u001b[1;33m)\u001b[0m\u001b[1;33m:\u001b[0m\u001b[1;33m\u001b[0m\u001b[1;33m\u001b[0m\u001b[0m\n\u001b[1;32m---> 73\u001b[1;33m         \u001b[1;32mraise\u001b[0m \u001b[0mValueError\u001b[0m\u001b[1;33m(\u001b[0m\u001b[1;34m\"{0} format is not supported\"\u001b[0m\u001b[1;33m.\u001b[0m\u001b[0mformat\u001b[0m\u001b[1;33m(\u001b[0m\u001b[0my_type\u001b[0m\u001b[1;33m)\u001b[0m\u001b[1;33m)\u001b[0m\u001b[1;33m\u001b[0m\u001b[1;33m\u001b[0m\u001b[0m\n\u001b[0m\u001b[0;32m     74\u001b[0m \u001b[1;33m\u001b[0m\u001b[0m\n\u001b[0;32m     75\u001b[0m     \u001b[1;32mif\u001b[0m \u001b[0my_type\u001b[0m \u001b[1;33m==\u001b[0m \u001b[1;34m\"binary\"\u001b[0m\u001b[1;33m:\u001b[0m\u001b[1;33m\u001b[0m\u001b[1;33m\u001b[0m\u001b[0m\n",
      "\u001b[1;31mValueError\u001b[0m: multiclass format is not supported"
     ]
    }
   ],
   "source": [
    "# eval\n",
    "print('The rmse of prediction is:', sklearn.metrics.roc_auc_score(y_test, y_pred))"
   ]
  },
  {
   "cell_type": "code",
   "execution_count": 120,
   "metadata": {},
   "outputs": [],
   "source": [
    "preds =  gbm.predict(test_data_GB, num_iteration=gbm.best_iteration)"
   ]
  },
  {
   "cell_type": "code",
   "execution_count": 122,
   "metadata": {},
   "outputs": [],
   "source": [
    "normalized_preds = (preds - preds.min())/(preds - preds.min()).max()"
   ]
  },
  {
   "cell_type": "code",
   "execution_count": 123,
   "metadata": {},
   "outputs": [
    {
     "data": {
      "text/plain": [
       "1.0"
      ]
     },
     "execution_count": 123,
     "metadata": {},
     "output_type": "execute_result"
    }
   ],
   "source": [
    "normalized_preds.max()"
   ]
  },
  {
   "cell_type": "code",
   "execution_count": null,
   "metadata": {},
   "outputs": [],
   "source": [
    "#c = (normalized_preds  + y____) / 2"
   ]
  },
  {
   "cell_type": "code",
   "execution_count": 124,
   "metadata": {},
   "outputs": [
    {
     "data": {
      "text/html": [
       "<div>\n",
       "<style scoped>\n",
       "    .dataframe tbody tr th:only-of-type {\n",
       "        vertical-align: middle;\n",
       "    }\n",
       "\n",
       "    .dataframe tbody tr th {\n",
       "        vertical-align: top;\n",
       "    }\n",
       "\n",
       "    .dataframe thead th {\n",
       "        text-align: right;\n",
       "    }\n",
       "</style>\n",
       "<table border=\"1\" class=\"dataframe\">\n",
       "  <thead>\n",
       "    <tr style=\"text-align: right;\">\n",
       "      <th></th>\n",
       "      <th>Id</th>\n",
       "      <th>rating</th>\n",
       "    </tr>\n",
       "  </thead>\n",
       "  <tbody>\n",
       "    <tr>\n",
       "      <td>0</td>\n",
       "      <td>0</td>\n",
       "      <td>0.590991</td>\n",
       "    </tr>\n",
       "    <tr>\n",
       "      <td>1</td>\n",
       "      <td>1</td>\n",
       "      <td>0.388600</td>\n",
       "    </tr>\n",
       "    <tr>\n",
       "      <td>2</td>\n",
       "      <td>2</td>\n",
       "      <td>0.388600</td>\n",
       "    </tr>\n",
       "  </tbody>\n",
       "</table>\n",
       "</div>"
      ],
      "text/plain": [
       "   Id    rating\n",
       "0   0  0.590991\n",
       "1   1  0.388600\n",
       "2   2  0.388600"
      ]
     },
     "execution_count": 124,
     "metadata": {},
     "output_type": "execute_result"
    }
   ],
   "source": [
    "sample_submission['rating'] = normalized_preds\n",
    "sample_submission.to_csv('rec_submission_2.csv', index=False)\n",
    "sample_submission.head(3)\n"
   ]
  },
  {
   "cell_type": "markdown",
   "metadata": {},
   "source": [
    "# collab с Tensor"
   ]
  },
  {
   "cell_type": "code",
   "execution_count": 188,
   "metadata": {},
   "outputs": [],
   "source": [
    "train_data_GB = pd.DataFrame({\n",
    "    'userid': train['userid'],\n",
    "    'itemid': train['itemid'],\n",
    "    'rating': train['rating']\n",
    "})\n",
    "\n",
    "test_data_GB = pd.DataFrame({\n",
    "    'userid': test['userid'],\n",
    "    'itemid': test['itemid'],\n",
    "})\n",
    "\n",
    "train_data_GB = pd.get_dummies(train_data_GB, prefix='', prefix_sep='', columns=['rating'])"
   ]
  },
  {
   "cell_type": "code",
   "execution_count": 189,
   "metadata": {},
   "outputs": [
    {
     "ename": "NameError",
     "evalue": "name 'Adam' is not defined",
     "output_type": "error",
     "traceback": [
      "\u001b[1;31m---------------------------------------------------------------------------\u001b[0m",
      "\u001b[1;31mNameError\u001b[0m                                 Traceback (most recent call last)",
      "\u001b[1;32m<ipython-input-189-3eb9cbc28575>\u001b[0m in \u001b[0;36m<module>\u001b[1;34m\u001b[0m\n\u001b[0;32m      1\u001b[0m \u001b[1;31m## specify learning rate (or use the default by specifying optimizer = 'adam')\u001b[0m\u001b[1;33m\u001b[0m\u001b[1;33m\u001b[0m\u001b[1;33m\u001b[0m\u001b[0m\n\u001b[1;32m----> 2\u001b[1;33m \u001b[0mopt_adam\u001b[0m \u001b[1;33m=\u001b[0m \u001b[0mAdam\u001b[0m\u001b[1;33m(\u001b[0m\u001b[0mlr\u001b[0m \u001b[1;33m=\u001b[0m \u001b[1;36m0.0003\u001b[0m\u001b[1;33m)\u001b[0m\u001b[1;33m\u001b[0m\u001b[1;33m\u001b[0m\u001b[0m\n\u001b[0m\u001b[0;32m      3\u001b[0m \u001b[1;33m\u001b[0m\u001b[0m\n\u001b[0;32m      4\u001b[0m \u001b[1;31m## compile model\u001b[0m\u001b[1;33m\u001b[0m\u001b[1;33m\u001b[0m\u001b[1;33m\u001b[0m\u001b[0m\n\u001b[0;32m      5\u001b[0m \u001b[0mmodel_tabular\u001b[0m\u001b[1;33m.\u001b[0m\u001b[0mcompile\u001b[0m\u001b[1;33m(\u001b[0m\u001b[0moptimizer\u001b[0m\u001b[1;33m=\u001b[0m \u001b[0mopt_adam\u001b[0m\u001b[1;33m,\u001b[0m \u001b[0mloss\u001b[0m\u001b[1;33m=\u001b[0m \u001b[1;33m[\u001b[0m\u001b[1;34m'binary_crossentropy'\u001b[0m\u001b[1;33m]\u001b[0m\u001b[1;33m,\u001b[0m \u001b[0mmetrics\u001b[0m\u001b[1;33m=\u001b[0m\u001b[1;33m[\u001b[0m\u001b[0mkeras\u001b[0m\u001b[1;33m.\u001b[0m\u001b[0mmetrics\u001b[0m\u001b[1;33m.\u001b[0m\u001b[0mAUC\u001b[0m\u001b[1;33m(\u001b[0m\u001b[1;33m)\u001b[0m\u001b[1;33m]\u001b[0m\u001b[1;33m)\u001b[0m\u001b[1;33m\u001b[0m\u001b[1;33m\u001b[0m\u001b[0m\n",
      "\u001b[1;31mNameError\u001b[0m: name 'Adam' is not defined"
     ]
    }
   ],
   "source": [
    "## specify learning rate (or use the default by specifying optimizer = 'adam')\n",
    "opt_adam = Adam(lr = 0.0003)\n",
    "\n",
    "## compile model\n",
    "model_tabular.compile(optimizer= opt_adam, loss= ['binary_crossentropy'], metrics=[keras.metrics.AUC()])\n",
    "\n",
    "## fit model\n",
    "history_tabular = model_tabular.fit([train_['userid'], train_['itemid']],\n",
    "                                    train_.iloc[:,[-2,-1]],\n",
    "                                    batch_size = 1000,\n",
    "                                    validation_split = 0.1,\n",
    "                                    epochs = 4,\n",
    "                                    verbose = 1)"
   ]
  },
  {
   "cell_type": "code",
   "execution_count": null,
   "metadata": {},
   "outputs": [],
   "source": [
    "test_pred_GB = model_tabular.predict([test_data_GB['userid'], test_data_GB['itemid']])[:,1]"
   ]
  },
  {
   "cell_type": "code",
   "execution_count": null,
   "metadata": {},
   "outputs": [],
   "source": [
    "test_pred = model_tabular.predict([test_['userid'], test_['itemid']])"
   ]
  },
  {
   "cell_type": "code",
   "execution_count": null,
   "metadata": {},
   "outputs": [],
   "source": [
    "sample_submission['rating'] = test_pred_GB\n",
    "sample_submission.to_csv('submission_XXXXXX.csv', index=False)\n",
    "sample_submission.head(3)"
   ]
  },
  {
   "cell_type": "code",
   "execution_count": null,
   "metadata": {},
   "outputs": [],
   "source": [
    "utem_embedding_weights = model_tabular.layers[2].get_weights()[0]"
   ]
  },
  {
   "cell_type": "code",
   "execution_count": null,
   "metadata": {},
   "outputs": [],
   "source": []
  },
  {
   "cell_type": "code",
   "execution_count": null,
   "metadata": {},
   "outputs": [],
   "source": []
  },
  {
   "cell_type": "code",
   "execution_count": null,
   "metadata": {},
   "outputs": [],
   "source": []
  }
 ],
 "metadata": {
  "kernelspec": {
   "display_name": "Python 3",
   "language": "python",
   "name": "python3"
  },
  "language_info": {
   "codemirror_mode": {
    "name": "ipython",
    "version": 3
   },
   "file_extension": ".py",
   "mimetype": "text/x-python",
   "name": "python",
   "nbconvert_exporter": "python",
   "pygments_lexer": "ipython3",
   "version": "3.7.4"
  }
 },
 "nbformat": 4,
 "nbformat_minor": 2
}
